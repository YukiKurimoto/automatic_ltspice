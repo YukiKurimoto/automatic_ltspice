{
 "cells": [
  {
   "cell_type": "markdown",
   "id": "e76c85dc",
   "metadata": {},
   "source": [
    "# 理論式を用いたインダクタンスの算出"
   ]
  },
  {
   "cell_type": "code",
   "execution_count": 9,
   "id": "ffb9e146",
   "metadata": {},
   "outputs": [],
   "source": [
    "import pandas as pd\n",
    "import matplotlib.pyplot as plt\n",
    "import sys\n",
    "import numpy as np\n",
    "from tqdm import tqdm_notebook as tqdm\n",
    "import os\n",
    "import scipy                                                                                                                           \n",
    "import math\n",
    "import scipy.optimize as opt\n",
    "import sympy as sy"
   ]
  },
  {
   "cell_type": "markdown",
   "id": "98c32675",
   "metadata": {},
   "source": [
    "矩形コイルのインダクタンスの理論式\n",
    "$$\n",
    "L(nH) = 1.62\\times10^{-3}\\times{d_{out}}^{-1.21}w^{-0.147}d_{avg}^{2.40}n^{1.78}s^{-0.030}\n",
    "$$\n",
    "に従って算出する。\n",
    "なお、各変数の単位はL(nH), Dout, w, Davg, sはそれぞれumである。"
   ]
  },
  {
   "cell_type": "markdown",
   "id": "8ab57827",
   "metadata": {},
   "source": [
    "所望のインダクタンスLobg"
   ]
  },
  {
   "cell_type": "code",
   "execution_count": 84,
   "id": "5d8582f0",
   "metadata": {},
   "outputs": [
    {
     "data": {
      "text/plain": [
       "287000"
      ]
     },
     "execution_count": 84,
     "metadata": {},
     "output_type": "execute_result"
    }
   ],
   "source": [
    "Lobj = 287*10**(3)\n",
    "Lobj"
   ]
  },
  {
   "cell_type": "code",
   "execution_count": 85,
   "id": "5a37b73b",
   "metadata": {},
   "outputs": [],
   "source": [
    "# 各種係数\n",
    "# インダクタンス理論式\n",
    "Dout = 30000 # 外径(単位um)\n",
    "B = 1.62*(10**(-3))\n",
    "a_dout = -1.21\n",
    "a_w = -0.147\n",
    "a_davg = 2.40\n",
    "a_n = 1.78\n",
    "a_s = -0.030\n",
    "\n",
    "# 抵抗率理論式\n",
    "sigma = 1.74*10**(-8) # 銅の抵抗率\n",
    "t = 35 # コイル銅箔厚さ(um)"
   ]
  },
  {
   "cell_type": "code",
   "execution_count": 86,
   "id": "820d49b5",
   "metadata": {},
   "outputs": [],
   "source": [
    "# # 単なる式の確認\n",
    "# n=125\n",
    "\n",
    "# Dout=30*(10**(3))\n",
    "# w=0.06*(10**(3))\n",
    "# s=0.06*(10**(3))\n",
    "# Din=Dout-w*(2*n)-s*(2*n-1) # ここは図的にこうなる\n",
    "# Davg=(Dout+Din)/2"
   ]
  },
  {
   "cell_type": "markdown",
   "id": "c71fcadb",
   "metadata": {},
   "source": [
    "ラグランジュの未定乗数法を用いる\n",
    "目的関数(最小値を求めたい、ここではコイルの抵抗L_R)は以下のFの式で表される(t, σは定数, lengthはn, w, sの関数)\n",
    "$$\n",
    "F(n, w, s) = \\frac{\\sigma}{tw}\\times length(n, w, s)\n",
    "$$\n",
    "拘束条件(所望のインダクタンス)はLobgを所望のインダクタンスとおくと、\n",
    "$$\n",
    "G(n, w, s) = 1.62\\times10^{-3}\\times{d_{out}}^{-1.21}w^{-0.147}d_{avg}^{2.40}n^{1.78}s^{-0.030}-L_{obj}=0\n",
    "$$\n",
    "未定乗数hを用いて\n",
    "$$\n",
    "\\frac{\\partial}{\\partial n}(F+h G)=0\n",
    "$$\n",
    "$$\n",
    "\\frac{\\partial}{\\partial w}(F+h G)=0\n",
    "$$\n",
    "$$\n",
    "\\frac{\\partial}{\\partial s}(F+h G)=0\n",
    "$$\n",
    "以上4つの式で解(n, w, s, h)を求める。"
   ]
  },
  {
   "cell_type": "markdown",
   "id": "daa860a2",
   "metadata": {},
   "source": [
    "変数を定義"
   ]
  },
  {
   "cell_type": "code",
   "execution_count": 87,
   "id": "51153b0a",
   "metadata": {},
   "outputs": [],
   "source": [
    "w, s, n, Din, Dav, h = sy.symbols(\"w s n Din Dav h\")"
   ]
  },
  {
   "cell_type": "markdown",
   "id": "20110bf0",
   "metadata": {},
   "source": [
    "目的関数F(抵抗値の理論式)を定義\n",
    "\n",
    "(注: まだlengthは正確な定義まで練ってない, ひとまずこれくらいの値)\n",
    "$$\n",
    "length= 4(D_{out} -2n(s+w)-w)\n",
    "$$"
   ]
  },
  {
   "cell_type": "code",
   "execution_count": 98,
   "id": "26368e39",
   "metadata": {
    "scrolled": true
   },
   "outputs": [
    {
     "data": {
      "text/latex": [
       "$\\displaystyle \\frac{28571428571.4286 \\left(- 1.392 \\cdot 10^{-13} n \\left(s + w\\right) - 6.96 \\cdot 10^{-14} w + 2.088 \\cdot 10^{-9}\\right)}{w}$"
      ],
      "text/plain": [
       "28571428571.4286*(-1.392e-13*n*(s + w) - 6.96e-14*w + 2.088e-9)/w"
      ]
     },
     "execution_count": 98,
     "metadata": {},
     "output_type": "execute_result"
    }
   ],
   "source": [
    "length = (Dout - 2*n*(s+w)-w)*4 # コイルの総長さ\n",
    "F= (sigma*length*10**(-6))/((w*10**(-6))*(t*10**(-6)))"
   ]
  },
  {
   "cell_type": "markdown",
   "id": "dc62e2e6",
   "metadata": {},
   "source": [
    "制約条件Gを定義"
   ]
  },
  {
   "cell_type": "code",
   "execution_count": 89,
   "id": "8e6b2329",
   "metadata": {
    "scrolled": true
   },
   "outputs": [],
   "source": [
    "Din=Dout-w*(2*n)-s*(2*n-1)\n",
    "Dav=(Dout+Din)/2\n",
    "G = B*(Dout**a_dout)*(w**a_w)*(Dav**a_davg)*(n**a_n)*(s**a_s)-Lobj\n",
    "L = B*(Dout**a_dout)*(w**a_w)*(Dav**a_davg)*(n**a_n)*(s**a_s)"
   ]
  },
  {
   "cell_type": "markdown",
   "id": "19391c5d",
   "metadata": {},
   "source": [
    "w, sに応じて、巻き数の上限は決定する"
   ]
  },
  {
   "cell_type": "code",
   "execution_count": 92,
   "id": "95d722fd",
   "metadata": {},
   "outputs": [],
   "source": [
    "nmax = (Dout+s)/(2*(s+w))"
   ]
  },
  {
   "cell_type": "markdown",
   "id": "da2633c0",
   "metadata": {},
   "source": [
    "ラグランジュの定理式に代入\n",
    "ここではhを未定乗数として扱っている"
   ]
  },
  {
   "cell_type": "code",
   "execution_count": 29,
   "id": "e1335fc7",
   "metadata": {},
   "outputs": [],
   "source": [
    "# theor = F - h * G"
   ]
  },
  {
   "cell_type": "code",
   "execution_count": 30,
   "id": "08d25292",
   "metadata": {},
   "outputs": [],
   "source": [
    "# # 各変数で偏微分する\n",
    "# diffn = sy.diff(theor, n)\n",
    "# diffw = sy.diff(theor, w)\n",
    "# diffs = sy.diff(theor, s)\n",
    "# diffh = sy.diff(theor, h)\n",
    "# type(G)"
   ]
  },
  {
   "cell_type": "code",
   "execution_count": 31,
   "id": "80454059",
   "metadata": {},
   "outputs": [],
   "source": [
    "# 連立方程式を解く\n",
    "# res = sy.solve([diffn, diffw, diffs, diffh])"
   ]
  },
  {
   "cell_type": "code",
   "execution_count": 32,
   "id": "20eb7136",
   "metadata": {},
   "outputs": [],
   "source": [
    "# def F(x):\n",
    "#     return [\n",
    "#         complex(diffn.subs([(n, x[0]), (w, x[1]),(s, x[2]), (h, x[3])])),\n",
    "#         complex(diffw.subs([(n, x[0]), (w, x[1]),(s, x[2]), (h, x[3])])),\n",
    "#         complex(diffs.subs([(n, x[0]), (w, x[1]),(s, x[2]), (h, x[3])])),\n",
    "#         complex(diffh.subs([(n, x[0]), (w, x[1]),(s, x[2]), (h, x[3])]))\n",
    "#          ]\n",
    "\n",
    "# guess = [0,0,0,0]\n",
    "\n",
    "# sol = opt.newton_krylov(F, guess)\n",
    "\n",
    "# print(sol)"
   ]
  },
  {
   "cell_type": "markdown",
   "id": "be0f0040",
   "metadata": {},
   "source": [
    "### ラグランジュでやらず、pythonのoptimize.minimize関数を用いた"
   ]
  },
  {
   "cell_type": "code",
   "execution_count": 101,
   "id": "9ee295e4",
   "metadata": {},
   "outputs": [],
   "source": [
    "# 代入用関数\n",
    "def Gx(x):\n",
    "    return G.subs([(n, x[0]), (w, x[1]),(s, x[2])])\n",
    "\n",
    "def Fx(x):\n",
    "    return F.subs([(n, x[0]), (w, x[1]),(s, x[2])])\n",
    "\n",
    "def nmaxx(x):\n",
    "    return nmax.subs([(w, x[1]),(s, x[2])])\n",
    "\n",
    "def Lx(x):\n",
    "    return L.subs([(n, x[0]), (w, x[1]),(s, x[2])])\n",
    "\n",
    "def lengthx(x):\n",
    "    return length.subs([(n, x[0]), (w, x[1]),(s, x[2])])\n",
    "\n",
    "# 制約条件\n",
    "cons = (\n",
    "        {\"type\":\"eq\",\"fun\": lambda x: Gx(x) - 0}, # 所望のインダクタンスに一致\n",
    "        {\"type\": \"ineq\", \"fun\": lambda x: nmaxx(x) - x[0]}, # 巻き数上限以下のn\n",
    "        {\"type\": \"ineq\", \"fun\": lambda x: lengthx(x) - 0} # コイル長は0以上\n",
    "       )\n",
    "\n",
    "# 結果格納用のdf\n",
    "columns = [\"i\",\"n\", \"w\",\"s\"]\n",
    "res_df = pd.DataFrame(columns=columns)\n",
    "\n",
    "# 適当に全パラメータ1~100で動かしてみた(妥当性不明)\n",
    "for i in range(1, 100):\n",
    "    x0 = [i, i, i]\n",
    "    try:\n",
    "        result = opt.minimize(fun = opt_F,\n",
    "                          x0=x0, \n",
    "                          bounds =  ((1,None), (10**(-8),None), (10**(-8),None)),\n",
    "                          constraints= cons,\n",
    "                          method=\"SLSQP\")\n",
    "        res = list(result.x)\n",
    "        res_df = res_df.append({'i': i,'n': res[0], 'w': res[1], 's': res[2],\"L\": Lx(res), \"R_L\": Fx(res)}, ignore_index=True)\n",
    "    except TypeError:\n",
    "        continue"
   ]
  },
  {
   "cell_type": "code",
   "execution_count": 102,
   "id": "a98bcd18",
   "metadata": {},
   "outputs": [
    {
     "data": {
      "text/html": [
       "<div>\n",
       "<style scoped>\n",
       "    .dataframe tbody tr th:only-of-type {\n",
       "        vertical-align: middle;\n",
       "    }\n",
       "\n",
       "    .dataframe tbody tr th {\n",
       "        vertical-align: top;\n",
       "    }\n",
       "\n",
       "    .dataframe thead th {\n",
       "        text-align: right;\n",
       "    }\n",
       "</style>\n",
       "<table border=\"1\" class=\"dataframe\">\n",
       "  <thead>\n",
       "    <tr style=\"text-align: right;\">\n",
       "      <th></th>\n",
       "      <th>i</th>\n",
       "      <th>n</th>\n",
       "      <th>w</th>\n",
       "      <th>s</th>\n",
       "      <th>L</th>\n",
       "      <th>R_L</th>\n",
       "    </tr>\n",
       "  </thead>\n",
       "  <tbody>\n",
       "    <tr>\n",
       "      <th>0</th>\n",
       "      <td>1</td>\n",
       "      <td>133.808668</td>\n",
       "      <td>111.683030</td>\n",
       "      <td>0.000007</td>\n",
       "      <td>287000.000000024</td>\n",
       "      <td>-1.82914356209622e-16</td>\n",
       "    </tr>\n",
       "    <tr>\n",
       "      <th>1</th>\n",
       "      <td>2</td>\n",
       "      <td>144.132749</td>\n",
       "      <td>103.710172</td>\n",
       "      <td>0.000782</td>\n",
       "      <td>286999.999999686</td>\n",
       "      <td>7.37548009591051e-16</td>\n",
       "    </tr>\n",
       "    <tr>\n",
       "      <th>2</th>\n",
       "      <td>3</td>\n",
       "      <td>151.887813</td>\n",
       "      <td>98.410783</td>\n",
       "      <td>0.022358</td>\n",
       "      <td>286999.999999997</td>\n",
       "      <td>8.93653640671177e-17</td>\n",
       "    </tr>\n",
       "    <tr>\n",
       "      <th>3</th>\n",
       "      <td>4</td>\n",
       "      <td>161.507065</td>\n",
       "      <td>42.765209</td>\n",
       "      <td>49.977591</td>\n",
       "      <td>287000.000000003</td>\n",
       "      <td>4.44089209850063e-16</td>\n",
       "    </tr>\n",
       "    <tr>\n",
       "      <th>4</th>\n",
       "      <td>5</td>\n",
       "      <td>165.376679</td>\n",
       "      <td>65.569991</td>\n",
       "      <td>24.933791</td>\n",
       "      <td>287000.000000001</td>\n",
       "      <td>9.43689570931383e-15</td>\n",
       "    </tr>\n",
       "    <tr>\n",
       "      <th>...</th>\n",
       "      <td>...</td>\n",
       "      <td>...</td>\n",
       "      <td>...</td>\n",
       "      <td>...</td>\n",
       "      <td>...</td>\n",
       "      <td>...</td>\n",
       "    </tr>\n",
       "    <tr>\n",
       "      <th>94</th>\n",
       "      <td>95</td>\n",
       "      <td>89.208112</td>\n",
       "      <td>98.093261</td>\n",
       "      <td>0.000398</td>\n",
       "      <td>287600.244954652</td>\n",
       "      <td>0.251384181133196</td>\n",
       "    </tr>\n",
       "    <tr>\n",
       "      <th>95</th>\n",
       "      <td>96</td>\n",
       "      <td>89.315777</td>\n",
       "      <td>98.165670</td>\n",
       "      <td>0.000400</td>\n",
       "      <td>287578.913249772</td>\n",
       "      <td>0.250507379904312</td>\n",
       "    </tr>\n",
       "    <tr>\n",
       "      <th>96</th>\n",
       "      <td>97</td>\n",
       "      <td>88.889396</td>\n",
       "      <td>96.679609</td>\n",
       "      <td>0.000626</td>\n",
       "      <td>287541.827946382</td>\n",
       "      <td>0.261543553894560</td>\n",
       "    </tr>\n",
       "    <tr>\n",
       "      <th>97</th>\n",
       "      <td>98</td>\n",
       "      <td>87.981806</td>\n",
       "      <td>95.462204</td>\n",
       "      <td>0.000755</td>\n",
       "      <td>287462.523594086</td>\n",
       "      <td>0.273021903409079</td>\n",
       "    </tr>\n",
       "    <tr>\n",
       "      <th>98</th>\n",
       "      <td>99</td>\n",
       "      <td>86.330984</td>\n",
       "      <td>94.265473</td>\n",
       "      <td>0.000680</td>\n",
       "      <td>287486.745565684</td>\n",
       "      <td>0.287521430325471</td>\n",
       "    </tr>\n",
       "  </tbody>\n",
       "</table>\n",
       "<p>99 rows × 6 columns</p>\n",
       "</div>"
      ],
      "text/plain": [
       "     i           n           w          s                 L  \\\n",
       "0    1  133.808668  111.683030   0.000007  287000.000000024   \n",
       "1    2  144.132749  103.710172   0.000782  286999.999999686   \n",
       "2    3  151.887813   98.410783   0.022358  286999.999999997   \n",
       "3    4  161.507065   42.765209  49.977591  287000.000000003   \n",
       "4    5  165.376679   65.569991  24.933791  287000.000000001   \n",
       "..  ..         ...         ...        ...               ...   \n",
       "94  95   89.208112   98.093261   0.000398  287600.244954652   \n",
       "95  96   89.315777   98.165670   0.000400  287578.913249772   \n",
       "96  97   88.889396   96.679609   0.000626  287541.827946382   \n",
       "97  98   87.981806   95.462204   0.000755  287462.523594086   \n",
       "98  99   86.330984   94.265473   0.000680  287486.745565684   \n",
       "\n",
       "                      R_L  \n",
       "0   -1.82914356209622e-16  \n",
       "1    7.37548009591051e-16  \n",
       "2    8.93653640671177e-17  \n",
       "3    4.44089209850063e-16  \n",
       "4    9.43689570931383e-15  \n",
       "..                    ...  \n",
       "94      0.251384181133196  \n",
       "95      0.250507379904312  \n",
       "96      0.261543553894560  \n",
       "97      0.273021903409079  \n",
       "98      0.287521430325471  \n",
       "\n",
       "[99 rows x 6 columns]"
      ]
     },
     "execution_count": 102,
     "metadata": {},
     "output_type": "execute_result"
    }
   ],
   "source": [
    "res_df"
   ]
  },
  {
   "cell_type": "code",
   "execution_count": 103,
   "id": "3fd9f2aa",
   "metadata": {},
   "outputs": [
    {
     "data": {
      "text/latex": [
       "$\\displaystyle -1.07045918997125 \\cdot 10^{-14}$"
      ],
      "text/plain": [
       "-1.07045918997125e-14"
      ]
     },
     "execution_count": 103,
     "metadata": {},
     "output_type": "execute_result"
    }
   ],
   "source": [
    "res_df['R_L'].min()"
   ]
  },
  {
   "cell_type": "markdown",
   "id": "ddc5ba76",
   "metadata": {},
   "source": [
    "内部抵抗の最小値が負なのは何で..."
   ]
  },
  {
   "cell_type": "code",
   "execution_count": null,
   "id": "e88a60eb",
   "metadata": {},
   "outputs": [],
   "source": []
  }
 ],
 "metadata": {
  "kernelspec": {
   "display_name": "Python 3 (ipykernel)",
   "language": "python",
   "name": "python3"
  },
  "language_info": {
   "codemirror_mode": {
    "name": "ipython",
    "version": 3
   },
   "file_extension": ".py",
   "mimetype": "text/x-python",
   "name": "python",
   "nbconvert_exporter": "python",
   "pygments_lexer": "ipython3",
   "version": "3.9.6"
  }
 },
 "nbformat": 4,
 "nbformat_minor": 5
}
