{
 "cells": [
  {
   "cell_type": "code",
   "execution_count": 7,
   "id": "8a72cf94",
   "metadata": {},
   "outputs": [],
   "source": [
    "import pandas as pd\n",
    "import matplotlib.pyplot as plt\n",
    "import gc\n",
    "import sys\n",
    "import numpy as np\n",
    "from tqdm import tqdm_notebook as tqdm\n",
    "import os\n",
    "import sys\n",
    "from platypus import NSGAII, Problem, Real, nondominated, Integer\n",
    "import matplotlib.pyplot as plt\n",
    "from platypus.problems import DTLZ2\n",
    "import scipy\n",
    "\n",
    "sys.path.append(os.path.abspath(\"../class_dir\"))\n",
    "from circuit_class import Circuit\n",
    "from standingwave_class import Standingwave\n",
    "# from standingwave_class import Standingwave\n",
    "from circuit_class import get_test_name"
   ]
  },
  {
   "cell_type": "markdown",
   "id": "6bf539d3",
   "metadata": {},
   "source": [
    "# 並列共振回路ver.\n",
    "\n",
    "シミュレーションを回しなおさなくていい場合、**<span style=\"color: green; \"> 緑太字で示した部分</span>**をコメントアウトする"
   ]
  },
  {
   "cell_type": "markdown",
   "id": "aafa036c",
   "metadata": {},
   "source": [
    "## コイルのインダクタンスLと直列負荷抵抗Rを変数としたシミュレーション\n",
    "\n",
    "### <span style=\"color: red; \">変数指定</span>\n",
    "テストするL, Rの範囲と間隔を指定(単位はLはμH, RはΩ)"
   ]
  },
  {
   "cell_type": "code",
   "execution_count": 42,
   "id": "c4e7d23d",
   "metadata": {},
   "outputs": [],
   "source": [
    "# Lは単位μH, 範囲指定はlogスケールで行う\n",
    "L_start = -1\n",
    "L_end = 3\n",
    "L_num = 60\n",
    "\n",
    "# Rは単位Ω, 範囲指定は線形スケールで行う\n",
    "R_start = -1\n",
    "R_end = 3\n",
    "R_num = 40\n",
    "\n",
    "# 結合係数Kは0.1で固定\n",
    "K=0.1\n",
    "\n",
    "# t_cutは5msシミュレーションなので0.0049\n",
    "t_cut_time = 0.0049\n",
    "\n",
    "# テスト元にするcirファイルのパス\n",
    "cir_path = '/Users/yuki/Documents/LTspice/test/parallel_0912/main_parallel'"
   ]
  },
  {
   "cell_type": "markdown",
   "id": "8fac2721",
   "metadata": {},
   "source": [
    "変数のリストを用意"
   ]
  },
  {
   "cell_type": "code",
   "execution_count": 43,
   "id": "87824dfa",
   "metadata": {},
   "outputs": [],
   "source": [
    "# 浮動少数点数型の変数の配列\n",
    "L_values_num = list(np.logspace(L_start, L_end, L_num))\n",
    "R_values_num = list(np.logspace(R_start, R_end, R_num))\n",
    "\n",
    "# 文字列型の変数の配列\n",
    "L_values = list(map(lambda x: str(x)+\"u\", L_values_num))\n",
    "R_values = list(map(lambda x: str(x), R_values_num))"
   ]
  },
  {
   "cell_type": "markdown",
   "id": "45478860",
   "metadata": {},
   "source": [
    "収集するデータのDataFrame用のカラムを準備"
   ]
  },
  {
   "cell_type": "code",
   "execution_count": 44,
   "id": "5ca4205a",
   "metadata": {},
   "outputs": [],
   "source": [
    "columns = ['L','L_str', 'R', 'R_str', 'V(out)', 'W']"
   ]
  },
  {
   "cell_type": "markdown",
   "id": "9fc8ef89",
   "metadata": {},
   "source": [
    "## <span style=\"color: red; \">条件増やしたり変えたらここも変更チェック\n",
    "条件を表す文字列を作成"
   ]
  },
  {
   "cell_type": "code",
   "execution_count": 45,
   "id": "60ce45ee",
   "metadata": {},
   "outputs": [
    {
     "data": {
      "text/plain": [
       "['0.1',\n",
       " '0.12663801734674032',\n",
       " '0.160371874375133',\n",
       " '0.20309176209047358',\n",
       " '0.2571913809059345',\n",
       " '0.3257020655659783',\n",
       " '0.41246263829013524',\n",
       " '0.5223345074266842',\n",
       " '0.6614740641230149',\n",
       " '0.8376776400682918',\n",
       " '1.0608183551394483',\n",
       " '1.3433993325989002',\n",
       " '1.7012542798525891',\n",
       " '2.1544346900318834',\n",
       " '2.728333376486768',\n",
       " '3.455107294592218',\n",
       " '4.3754793750741845',\n",
       " '5.541020330009492',\n",
       " '7.017038286703826',\n",
       " '8.886238162743403',\n",
       " '11.253355826007645',\n",
       " '14.251026703029977',\n",
       " '18.047217668271703',\n",
       " '22.854638641349908',\n",
       " '28.942661247167518',\n",
       " '36.65241237079626',\n",
       " '46.41588833612777',\n",
       " '58.780160722749116',\n",
       " '74.43803013251689',\n",
       " '94.26684551178855',\n",
       " '119.37766417144357',\n",
       " '151.17750706156616',\n",
       " '191.44819761699577',\n",
       " '242.44620170823282',\n",
       " '307.029062975785',\n",
       " '388.81551803080856',\n",
       " '492.38826317067367',\n",
       " '623.5507341273913',\n",
       " '789.6522868499725',\n",
       " '1000.0']"
      ]
     },
     "execution_count": 45,
     "metadata": {},
     "output_type": "execute_result"
    }
   ],
   "source": [
    "condition = 'parallel_0912'\n",
    "condition += f'_L:{L_values[0]}~{L_values[-1]}(n={L_num})_R:{R_values[0]}~{R_values[-1]}(n={R_num})_K:{K}'\n",
    "condition\n",
    "R_values"
   ]
  },
  {
   "cell_type": "markdown",
   "id": "8d337ffb",
   "metadata": {},
   "source": [
    "結果保存用の条件別のフォルダを作成"
   ]
  },
  {
   "cell_type": "code",
   "execution_count": 6,
   "id": "3d040141",
   "metadata": {},
   "outputs": [],
   "source": [
    "result_dir = f'result/{condition}'\n",
    "if not os.path.isdir(result_dir):\n",
    "    os.mkdir(result_dir)"
   ]
  },
  {
   "cell_type": "markdown",
   "id": "acf47b94",
   "metadata": {},
   "source": [
    "## 全パターンのシミュレーションの実行\n",
    "\n",
    "### <span style=\"color: green; \">完了している場合はコメントアウトしておく"
   ]
  },
  {
   "cell_type": "code",
   "execution_count": 7,
   "id": "837a9279",
   "metadata": {},
   "outputs": [],
   "source": [
    "# change_elements = {}\n",
    "# change_elements['K'] = K\n",
    "\n",
    "# for L in tqdm(L_values):\n",
    "#     parallel = Circuit(cir_path)\n",
    "#     change_elements['L'] = L\n",
    "#     for R in tqdm(R_values):\n",
    "#         change_elements['R'] = R\n",
    "#         parallel.change_element_run(change_elements)\n",
    "#     del parallel\n",
    "#     gc.collect()"
   ]
  },
  {
   "cell_type": "markdown",
   "id": "2e584606",
   "metadata": {},
   "source": [
    "## シミュレーション結果をcsvに保存\n",
    "\n",
    "### <span style=\"color: green; \">完了している場合はコメントアウトしておく"
   ]
  },
  {
   "cell_type": "code",
   "execution_count": 8,
   "id": "f3fa8711",
   "metadata": {},
   "outputs": [],
   "source": [
    "# sim_df = pd.DataFrame(columns= columns)\n",
    "# change_elements = {}\n",
    "# change_elements['K'] = K\n",
    "\n",
    "# for l in tqdm(range(len(L_values))):\n",
    "#     change_elements['L'] = L_values[l]\n",
    "#     for r in range(len(R_values)):\n",
    "#         change_elements['R'] = R_values[r]\n",
    "#         test_name = get_test_name(change_elements)\n",
    "#         parallel = Standingwave(cir_path)\n",
    "#         parallel.change_element_df_save(change_elements)\n",
    "#         parallel.t_cut(0.0049)\n",
    "#         v = parallel.get_amp_means()[\"V(test)\"][test_name]\n",
    "#         W_mean = parallel.get_W('I(R1)', 'V(a)', change_elements=change_elements, t_cut_time=t_cut_time)['W'].mean()\n",
    "#         sim_df = sim_df.append({'L': L_values_num[l], 'L_str': L_values[l], 'R': R_values_num[r], 'R_str': R_values[r], 'V(out)': v, 'W': W_mean}, ignore_index=True)\n",
    "#         del parallel\n",
    "#         gc.collect()\n",
    "# sim_df.to_csv(f'{result_dir}/LR_VW.csv')"
   ]
  },
  {
   "cell_type": "markdown",
   "id": "85696b86",
   "metadata": {},
   "source": [
    "## csvからデータを読みこみ"
   ]
  },
  {
   "cell_type": "code",
   "execution_count": 9,
   "id": "5a14776c",
   "metadata": {},
   "outputs": [],
   "source": [
    "csv_df = pd.read_csv(f'{result_dir}/LR_VW.csv', dtype = {'L_str':'object', 'R_str':'object'})"
   ]
  },
  {
   "cell_type": "markdown",
   "id": "682bc094",
   "metadata": {},
   "source": [
    "# 出力側電圧\n",
    "\n",
    "## L別にRと出力側電圧振幅の関係をみる"
   ]
  },
  {
   "cell_type": "markdown",
   "id": "c7e2579e",
   "metadata": {},
   "source": [
    "波形確認"
   ]
  },
  {
   "cell_type": "code",
   "execution_count": 10,
   "id": "23511716",
   "metadata": {},
   "outputs": [],
   "source": [
    "# change_elements = {}\n",
    "# change_elements['K'] = K\n",
    "\n",
    "# # count = 0\n",
    "\n",
    "# for L in tqdm(L_values[50:60]):\n",
    "#     parallel = Standingwave(cir_path)\n",
    "#     change_elements['L'] = L\n",
    "#     for R in R_values:\n",
    "#         change_elements['R'] = R\n",
    "#         parallel.change_element_df_save(change_elements)\n",
    "#     parallel.t_cut(0.0049)\n",
    "# #     if count>55:\n",
    "#     parallel.dfs[\"V(test)\"][f'K=0.1L={L}R=1000.0'].plot(x=\"t\", y=\"V(test)\", title = f'L={L}H')\n",
    "#     del parallel\n",
    "#     gc.collect()"
   ]
  },
  {
   "cell_type": "markdown",
   "id": "ba5c18a4",
   "metadata": {},
   "source": [
    "描画(x, yどちらも対数軸)して保存"
   ]
  },
  {
   "cell_type": "code",
   "execution_count": 11,
   "id": "2cdd92b8",
   "metadata": {},
   "outputs": [],
   "source": [
    "ncols=3\n",
    "nrows = 1+len(L_values)//ncols\n",
    "\n",
    "fig, axes = plt.subplots(nrows=nrows, ncols=ncols, figsize=(18, 6*nrows))\n",
    "plt_count = 0\n",
    "for L in L_values:\n",
    "    csv_df[csv_df['L_str']==L].plot(x=\"R\", y=\"V(out)\", title = f'L={L}uH', loglog = True, ax=axes[plt_count//ncols, plt_count%ncols])\n",
    "    plt_count+=1\n",
    "plt.savefig(f'{result_dir}/R_amp.png')\n",
    "plt.close('all')"
   ]
  },
  {
   "cell_type": "markdown",
   "id": "f6337276",
   "metadata": {},
   "source": [
    "## R別にLと出力側電圧振幅の関係をみる"
   ]
  },
  {
   "cell_type": "markdown",
   "id": "7b9ae9de",
   "metadata": {},
   "source": [
    "描画(x, yどちらも対数軸)して保存"
   ]
  },
  {
   "cell_type": "code",
   "execution_count": 12,
   "id": "00a0f5d8",
   "metadata": {},
   "outputs": [],
   "source": [
    "ncols=3\n",
    "nrows = 1+len(R_values)//ncols\n",
    "\n",
    "fig, axes = plt.subplots(nrows=nrows, ncols=ncols, figsize=(18, 6*nrows))\n",
    "plt_count = 0\n",
    "for R in R_values:\n",
    "    csv_df[csv_df['R_str']==R].plot(x=\"L\", y=\"V(out)\", title = f'R={R}Ω', loglog = True, ax=axes[plt_count//ncols, plt_count%ncols])\n",
    "    plt_count+=1\n",
    "plt.savefig(f'{result_dir}/L_amp.png')\n",
    "plt.close('all')"
   ]
  },
  {
   "cell_type": "markdown",
   "id": "bf165657",
   "metadata": {},
   "source": [
    "## 出力電圧が最高だったテストパターン"
   ]
  },
  {
   "cell_type": "code",
   "execution_count": 13,
   "id": "2c5fe422",
   "metadata": {
    "scrolled": true
   },
   "outputs": [
    {
     "data": {
      "text/html": [
       "<div>\n",
       "<style scoped>\n",
       "    .dataframe tbody tr th:only-of-type {\n",
       "        vertical-align: middle;\n",
       "    }\n",
       "\n",
       "    .dataframe tbody tr th {\n",
       "        vertical-align: top;\n",
       "    }\n",
       "\n",
       "    .dataframe thead th {\n",
       "        text-align: right;\n",
       "    }\n",
       "</style>\n",
       "<table border=\"1\" class=\"dataframe\">\n",
       "  <thead>\n",
       "    <tr style=\"text-align: right;\">\n",
       "      <th></th>\n",
       "      <th>Unnamed: 0</th>\n",
       "      <th>L</th>\n",
       "      <th>L_str</th>\n",
       "      <th>R</th>\n",
       "      <th>R_str</th>\n",
       "      <th>V(out)</th>\n",
       "      <th>W</th>\n",
       "    </tr>\n",
       "  </thead>\n",
       "  <tbody>\n",
       "    <tr>\n",
       "      <th>2220</th>\n",
       "      <td>2220</td>\n",
       "      <td>32.245905</td>\n",
       "      <td>32.245905452963946u</td>\n",
       "      <td>1.0</td>\n",
       "      <td>1.0</td>\n",
       "      <td>0.635236</td>\n",
       "      <td>0.007987</td>\n",
       "    </tr>\n",
       "  </tbody>\n",
       "</table>\n",
       "</div>"
      ],
      "text/plain": [
       "      Unnamed: 0          L                L_str    R R_str    V(out)  \\\n",
       "2220        2220  32.245905  32.245905452963946u  1.0   1.0  0.635236   \n",
       "\n",
       "             W  \n",
       "2220  0.007987  "
      ]
     },
     "execution_count": 13,
     "metadata": {},
     "output_type": "execute_result"
    }
   ],
   "source": [
    "max_v = csv_df[csv_df['V(out)']==csv_df['V(out)'].max()]\n",
    "max_v"
   ]
  },
  {
   "cell_type": "markdown",
   "id": "f3585ff0",
   "metadata": {},
   "source": [
    "# 入力側消費電力\n",
    "\n",
    "## L別でRと整定後の平均消費電力の関係をみる"
   ]
  },
  {
   "cell_type": "markdown",
   "id": "a988721a",
   "metadata": {},
   "source": [
    "波形確認"
   ]
  },
  {
   "cell_type": "code",
   "execution_count": 14,
   "id": "8bd82161",
   "metadata": {},
   "outputs": [],
   "source": [
    "# change_elements = {}\n",
    "# change_elements['K'] = K\n",
    "\n",
    "# ncols=3\n",
    "# nrows = 1+20//ncols\n",
    "\n",
    "# fig, axes = plt.subplots(nrows=nrows, ncols=ncols, figsize=(18, 6*nrows))\n",
    "# plt_count = 0\n",
    "\n",
    "# for L in tqdm(L_values[59:60]):\n",
    "#     parallel = Standingwave(cir_path)\n",
    "#     change_elements['L'] = L\n",
    "#     hoge = 0\n",
    "#     for R in R_values:\n",
    "#         change_elements['R'] = R\n",
    "#         if hoge < 20:\n",
    "#             w = parallel.get_W('I(R1)', 'V(a)', change_elements=change_elements)\n",
    "#             w.plot(x=\"t\", y=\"W\", title = f'R={R}Ω', ax=axes[plt_count//ncols, plt_count%ncols])\n",
    "#             plt_count+=1\n",
    "#         hoge +=1\n",
    "#     del parallel\n",
    "#     gc.collect()\n",
    "# plt.savefig(f'{result_dir}/W_waves_L=1000.png')\n",
    "# plt.close('all')"
   ]
  },
  {
   "cell_type": "markdown",
   "id": "359a05ca",
   "metadata": {},
   "source": [
    "描画(x, yどちらも対数軸)して保存"
   ]
  },
  {
   "cell_type": "code",
   "execution_count": 15,
   "id": "3c8e820b",
   "metadata": {},
   "outputs": [],
   "source": [
    "ncols=3\n",
    "nrows = 1+len(L_values)//ncols\n",
    "\n",
    "fig, axes = plt.subplots(nrows=nrows, ncols=ncols, figsize=(18, 6*nrows))\n",
    "plt_count = 0\n",
    "for L in L_values:\n",
    "    csv_df[csv_df['L_str']==L].plot(x=\"R\", y=\"W\", title = f'L={L}uH', loglog = True, ax=axes[plt_count//ncols, plt_count%ncols])\n",
    "    plt_count+=1\n",
    "plt.savefig(f'{result_dir}/R_W.png')\n",
    "plt.close('all')"
   ]
  },
  {
   "cell_type": "markdown",
   "id": "bd1bc769",
   "metadata": {},
   "source": [
    "## R別でLと整定後の平均消費電力の関係をみる"
   ]
  },
  {
   "cell_type": "markdown",
   "id": "e4235bfe",
   "metadata": {},
   "source": [
    "描画(x, yどちらも対数軸)して保存"
   ]
  },
  {
   "cell_type": "code",
   "execution_count": 16,
   "id": "9f91868b",
   "metadata": {},
   "outputs": [],
   "source": [
    "ncols=3\n",
    "nrows = 1+len(R_values)//ncols\n",
    "\n",
    "fig, axes = plt.subplots(nrows=nrows, ncols=ncols, figsize=(18, 6*nrows))\n",
    "plt_count = 0\n",
    "for R in R_values:\n",
    "    csv_df[csv_df['R_str']==R].plot(x=\"L\", y=\"W\", title = f'R={R}Ω', loglog = True, ax=axes[plt_count//ncols, plt_count%ncols])\n",
    "    plt_count+=1\n",
    "plt.savefig(f'{result_dir}/L_W.png')\n",
    "plt.close('all')"
   ]
  },
  {
   "cell_type": "markdown",
   "id": "9c11d226",
   "metadata": {},
   "source": [
    "## 平均消費電力が最小だったテストパターン"
   ]
  },
  {
   "cell_type": "code",
   "execution_count": 17,
   "id": "0b1f9026",
   "metadata": {},
   "outputs": [
    {
     "data": {
      "text/html": [
       "<div>\n",
       "<style scoped>\n",
       "    .dataframe tbody tr th:only-of-type {\n",
       "        vertical-align: middle;\n",
       "    }\n",
       "\n",
       "    .dataframe tbody tr th {\n",
       "        vertical-align: top;\n",
       "    }\n",
       "\n",
       "    .dataframe thead th {\n",
       "        text-align: right;\n",
       "    }\n",
       "</style>\n",
       "<table border=\"1\" class=\"dataframe\">\n",
       "  <thead>\n",
       "    <tr style=\"text-align: right;\">\n",
       "      <th></th>\n",
       "      <th>Unnamed: 0</th>\n",
       "      <th>L</th>\n",
       "      <th>L_str</th>\n",
       "      <th>R</th>\n",
       "      <th>R_str</th>\n",
       "      <th>V(out)</th>\n",
       "      <th>W</th>\n",
       "    </tr>\n",
       "  </thead>\n",
       "  <tbody>\n",
       "    <tr>\n",
       "      <th>2220</th>\n",
       "      <td>2220</td>\n",
       "      <td>32.245905</td>\n",
       "      <td>32.245905452963946u</td>\n",
       "      <td>1.0</td>\n",
       "      <td>1.0</td>\n",
       "      <td>0.635236</td>\n",
       "      <td>0.007987</td>\n",
       "    </tr>\n",
       "  </tbody>\n",
       "</table>\n",
       "</div>"
      ],
      "text/plain": [
       "      Unnamed: 0          L                L_str    R R_str    V(out)  \\\n",
       "2220        2220  32.245905  32.245905452963946u  1.0   1.0  0.635236   \n",
       "\n",
       "             W  \n",
       "2220  0.007987  "
      ]
     },
     "execution_count": 17,
     "metadata": {},
     "output_type": "execute_result"
    }
   ],
   "source": [
    "min_w = csv_df[csv_df['V(out)']==csv_df['V(out)'].max()]\n",
    "min_w"
   ]
  },
  {
   "cell_type": "markdown",
   "id": "a8b3e75d",
   "metadata": {},
   "source": [
    "# 出力電圧と平均消費電力を２軸プロットする"
   ]
  },
  {
   "cell_type": "code",
   "execution_count": 29,
   "id": "9194f97b",
   "metadata": {},
   "outputs": [],
   "source": [
    "csv_df.plot(x=\"V(out)\", y=\"W\", kind='scatter')\n",
    "plt.xlabel(\"$V_{Lout}[V]$\", size=10)\n",
    "plt.ylabel(\"$W_{in}$[W]\",size=10)\n",
    "plt.savefig(f'{result_dir}/vout_w_scatterd.png')\n",
    "plt.close('all')"
   ]
  },
  {
   "cell_type": "markdown",
   "id": "7bca2cda",
   "metadata": {},
   "source": [
    "### NSGA-Ⅱを用いたパレート最適解の抽出\n",
    "多目的最適化問題に用いられる多目的遺伝的アルゴリズムのNSGA-Ⅱ(詳細はhttps://qiita.com/DS27/items/025a52b26a9f2471e67c )を用いて、非劣解を抽出する.\n",
    "用いているplatypusライブラリに関しては https://qiita.com/pontyo4/items/d8812e4f46850d746fcd を軽く参照"
   ]
  },
  {
   "cell_type": "code",
   "execution_count": 19,
   "id": "1ccf5e47",
   "metadata": {},
   "outputs": [],
   "source": [
    "def obj_func(args):\n",
    "    L_num = args[0]\n",
    "    R_num = args[1]\n",
    "    data = csv_df[(csv_df['L_str']==L_values[L_num]) & (csv_df['R_str']==R_values[R_num])]\n",
    "    return [float(data['V(out)']),float(data.W)]\n",
    "\n",
    "problem = Problem(2, 2)\n",
    "problem.directions[:] = [Problem.MAXIMIZE, Problem.MINIMIZE]\n",
    "L_num = Integer(0, len(L_values)-1)\n",
    "R_num = Integer(0, len(R_values)-1)\n",
    "problem.types[:] = [L_num, R_num]\n",
    "problem.function = obj_func\n",
    "\n",
    "algorithm = NSGAII(problem, population_size = 50)\n",
    "algorithm.run(10000)\n",
    "\n",
    "# 非劣解をとりだす\n",
    "nondominated_solutions = nondominated(algorithm.result)\n",
    "\n",
    "# グラフを描画\n",
    "plt.scatter([s.objectives[0] for s in nondominated_solutions if s.feasible],\n",
    "           [s.objectives[1] for s in nondominated_solutions if s.feasible])\n",
    "plt.savefig(f'{result_dir}/vout_w_pareto.png')\n",
    "plt.close('all')"
   ]
  },
  {
   "cell_type": "code",
   "execution_count": 20,
   "id": "0297f6ee",
   "metadata": {},
   "outputs": [],
   "source": [
    "df = pd.DataFrame(columns=(\"L\", \"L_str\", \"R\", \"R_str\", \"V(out)\", \"W\"))\n",
    "for i in range(len(nondominated_solutions)):\n",
    "    df.loc[i, \"L\"] = L_values_num[L_num.decode(nondominated_solutions[i].variables[0])]\n",
    "    df.loc[i, \"R\"] = R_values_num[R_num.decode(nondominated_solutions[i].variables[1])]\n",
    "    df.loc[i, \"L_str\"] = L_values[L_num.decode(nondominated_solutions[i].variables[0])]\n",
    "    df.loc[i, \"R_str\"] = R_values[R_num.decode(nondominated_solutions[i].variables[1])]\n",
    "    df.loc[i, \"V(out)\"] = nondominated_solutions[i].objectives[0]\n",
    "    df.loc[i, \"W\"] = nondominated_solutions[i].objectives[1]\n",
    "df.sort_values(['L', 'R'], ascending = [False, False])\n",
    "df.to_csv(result_dir+'/pareto_set.csv')"
   ]
  },
  {
   "cell_type": "code",
   "execution_count": 32,
   "id": "4e3328b9",
   "metadata": {},
   "outputs": [
    {
     "data": {
      "text/html": [
       "<div>\n",
       "<style scoped>\n",
       "    .dataframe tbody tr th:only-of-type {\n",
       "        vertical-align: middle;\n",
       "    }\n",
       "\n",
       "    .dataframe tbody tr th {\n",
       "        vertical-align: top;\n",
       "    }\n",
       "\n",
       "    .dataframe thead th {\n",
       "        text-align: right;\n",
       "    }\n",
       "</style>\n",
       "<table border=\"1\" class=\"dataframe\">\n",
       "  <thead>\n",
       "    <tr style=\"text-align: right;\">\n",
       "      <th></th>\n",
       "      <th>L</th>\n",
       "      <th>L_str</th>\n",
       "      <th>R</th>\n",
       "      <th>R_str</th>\n",
       "      <th>V(out)</th>\n",
       "      <th>W</th>\n",
       "    </tr>\n",
       "  </thead>\n",
       "  <tbody>\n",
       "    <tr>\n",
       "      <th>35</th>\n",
       "      <td>1000.0</td>\n",
       "      <td>1000.0u</td>\n",
       "      <td>108.118075</td>\n",
       "      <td>108.11807510766077</td>\n",
       "      <td>0.582867</td>\n",
       "      <td>0.000516</td>\n",
       "    </tr>\n",
       "    <tr>\n",
       "      <th>46</th>\n",
       "      <td>1000.0</td>\n",
       "      <td>1000.0u</td>\n",
       "      <td>60.208945</td>\n",
       "      <td>60.208944933361316</td>\n",
       "      <td>0.588309</td>\n",
       "      <td>0.000592</td>\n",
       "    </tr>\n",
       "    <tr>\n",
       "      <th>49</th>\n",
       "      <td>1000.0</td>\n",
       "      <td>1000.0u</td>\n",
       "      <td>47.63938</td>\n",
       "      <td>47.63938010401343</td>\n",
       "      <td>0.591174</td>\n",
       "      <td>0.000626</td>\n",
       "    </tr>\n",
       "    <tr>\n",
       "      <th>45</th>\n",
       "      <td>855.467254</td>\n",
       "      <td>855.4672535565685u</td>\n",
       "      <td>29.824713</td>\n",
       "      <td>29.824712862168912</td>\n",
       "      <td>0.593101</td>\n",
       "      <td>0.000727</td>\n",
       "    </tr>\n",
       "    <tr>\n",
       "      <th>47</th>\n",
       "      <td>626.051657</td>\n",
       "      <td>626.0516572014822u</td>\n",
       "      <td>47.63938</td>\n",
       "      <td>47.63938010401343</td>\n",
       "      <td>0.596798</td>\n",
       "      <td>0.00075</td>\n",
       "    </tr>\n",
       "    <tr>\n",
       "      <th>38</th>\n",
       "      <td>626.051657</td>\n",
       "      <td>626.0516572014822u</td>\n",
       "      <td>29.824713</td>\n",
       "      <td>29.824712862168912</td>\n",
       "      <td>0.599037</td>\n",
       "      <td>0.000838</td>\n",
       "    </tr>\n",
       "    <tr>\n",
       "      <th>29</th>\n",
       "      <td>458.159767</td>\n",
       "      <td>458.1597669054491u</td>\n",
       "      <td>29.824713</td>\n",
       "      <td>29.824712862168912</td>\n",
       "      <td>0.603494</td>\n",
       "      <td>0.00094</td>\n",
       "    </tr>\n",
       "    <tr>\n",
       "      <th>28</th>\n",
       "      <td>391.940677</td>\n",
       "      <td>391.94067748472213u</td>\n",
       "      <td>20.991037</td>\n",
       "      <td>20.991037201085547</td>\n",
       "      <td>0.605244</td>\n",
       "      <td>0.001159</td>\n",
       "    </tr>\n",
       "    <tr>\n",
       "      <th>32</th>\n",
       "      <td>245.375111</td>\n",
       "      <td>245.37511066398167u</td>\n",
       "      <td>23.598335</td>\n",
       "      <td>23.59833466782195</td>\n",
       "      <td>0.605419</td>\n",
       "      <td>0.001344</td>\n",
       "    </tr>\n",
       "    <tr>\n",
       "      <th>33</th>\n",
       "      <td>286.831681</td>\n",
       "      <td>286.83168133420116u</td>\n",
       "      <td>18.671811</td>\n",
       "      <td>18.671810912919206</td>\n",
       "      <td>0.608329</td>\n",
       "      <td>0.001503</td>\n",
       "    </tr>\n",
       "    <tr>\n",
       "      <th>23</th>\n",
       "      <td>286.831681</td>\n",
       "      <td>286.83168133420116u</td>\n",
       "      <td>16.608828</td>\n",
       "      <td>16.608827826277157</td>\n",
       "      <td>0.60936</td>\n",
       "      <td>0.001642</td>\n",
       "    </tr>\n",
       "    <tr>\n",
       "      <th>24</th>\n",
       "      <td>245.375111</td>\n",
       "      <td>245.37511066398167u</td>\n",
       "      <td>13.141474</td>\n",
       "      <td>13.141473626117568</td>\n",
       "      <td>0.609404</td>\n",
       "      <td>0.00201</td>\n",
       "    </tr>\n",
       "  </tbody>\n",
       "</table>\n",
       "</div>"
      ],
      "text/plain": [
       "             L                L_str           R               R_str    V(out)  \\\n",
       "35      1000.0              1000.0u  108.118075  108.11807510766077  0.582867   \n",
       "46      1000.0              1000.0u   60.208945  60.208944933361316  0.588309   \n",
       "49      1000.0              1000.0u    47.63938   47.63938010401343  0.591174   \n",
       "45  855.467254   855.4672535565685u   29.824713  29.824712862168912  0.593101   \n",
       "47  626.051657   626.0516572014822u    47.63938   47.63938010401343  0.596798   \n",
       "38  626.051657   626.0516572014822u   29.824713  29.824712862168912  0.599037   \n",
       "29  458.159767   458.1597669054491u   29.824713  29.824712862168912  0.603494   \n",
       "28  391.940677  391.94067748472213u   20.991037  20.991037201085547  0.605244   \n",
       "32  245.375111  245.37511066398167u   23.598335   23.59833466782195  0.605419   \n",
       "33  286.831681  286.83168133420116u   18.671811  18.671810912919206  0.608329   \n",
       "23  286.831681  286.83168133420116u   16.608828  16.608827826277157   0.60936   \n",
       "24  245.375111  245.37511066398167u   13.141474  13.141473626117568  0.609404   \n",
       "\n",
       "           W  \n",
       "35  0.000516  \n",
       "46  0.000592  \n",
       "49  0.000626  \n",
       "45  0.000727  \n",
       "47   0.00075  \n",
       "38  0.000838  \n",
       "29   0.00094  \n",
       "28  0.001159  \n",
       "32  0.001344  \n",
       "33  0.001503  \n",
       "23  0.001642  \n",
       "24   0.00201  "
      ]
     },
     "execution_count": 32,
     "metadata": {},
     "output_type": "execute_result"
    }
   ],
   "source": [
    "df[(df[\"V(out)\"]>0.58)&(df[\"V(out)\"]<0.61)].sort_values('V(out)')"
   ]
  },
  {
   "cell_type": "code",
   "execution_count": 31,
   "id": "2155d7f2",
   "metadata": {},
   "outputs": [
    {
     "data": {
      "text/plain": [
       "<AxesSubplot:xlabel='V(out)', ylabel='W'>"
      ]
     },
     "execution_count": 31,
     "metadata": {},
     "output_type": "execute_result"
    },
    {
     "data": {
      "image/png": "[encoded data removed]",
      "text/plain": [
       "<Figure size 432x288 with 1 Axes>"
      ]
     },
     "metadata": {
      "needs_background": "light"
     },
     "output_type": "display_data"
    }
   ],
   "source": [
    "df[(df[\"V(out)\"]>0.58)&(df[\"V(out)\"]<0.61)].plot(x='V(out)', y='W', kind='scatter')"
   ]
  },
  {
   "cell_type": "code",
   "execution_count": 34,
   "id": "09162f9c",
   "metadata": {},
   "outputs": [
    {
     "data": {
      "text/plain": [
       "1.2665147955292225e-09"
      ]
     },
     "execution_count": 34,
     "metadata": {},
     "output_type": "execute_result"
    }
   ],
   "source": [
    "L= 500*10**(-6)\n",
    "f = 200*10**3\n",
    "c=1/(L*((2*np.pi*f)**2))\n",
    "c"
   ]
  },
  {
   "cell_type": "code",
   "execution_count": null,
   "id": "98164e77",
   "metadata": {},
   "outputs": [],
   "source": []
  }
 ],
 "metadata": {
  "kernelspec": {
   "display_name": "Python 3 (ipykernel)",
   "language": "python",
   "name": "python3"
  },
  "language_info": {
   "codemirror_mode": {
    "name": "ipython",
    "version": 3
   },
   "file_extension": ".py",
   "mimetype": "text/x-python",
   "name": "python",
   "nbconvert_exporter": "python",
   "pygments_lexer": "ipython3",
   "version": "3.9.6"
  }
 },
 "nbformat": 4,
 "nbformat_minor": 5
}
