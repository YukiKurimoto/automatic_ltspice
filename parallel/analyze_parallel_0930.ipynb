{
 "cells": [
  {
   "cell_type": "code",
   "execution_count": 1,
   "id": "8a72cf94",
   "metadata": {},
   "outputs": [],
   "source": [
    "import pandas as pd\n",
    "import matplotlib.pyplot as plt\n",
    "import gc\n",
    "import sys\n",
    "import numpy as np\n",
    "from tqdm import tqdm_notebook as tqdm\n",
    "import os\n",
    "import sys\n",
    "from platypus import NSGAII, Problem, Real, nondominated, Integer\n",
    "import matplotlib.pyplot as plt\n",
    "from platypus.problems import DTLZ2\n",
    "import scipy\n",
    "\n",
    "sys.path.append(os.path.abspath(\"../class_dir\"))\n",
    "from circuit_class import Circuit\n",
    "from standingwave_class import Standingwave\n",
    "# from standingwave_class import Standingwave\n",
    "from circuit_class import get_test_name"
   ]
  },
  {
   "cell_type": "code",
   "execution_count": 2,
   "id": "6be5e809",
   "metadata": {},
   "outputs": [],
   "source": [
    "def delete_simfiles(path):\n",
    "        os.remove(f'{cir_path}_{test_name}.cir')\n",
    "        os.remove(f'{cir_path}_{test_name}.raw')\n",
    "        os.remove(f'{cir_path}_{test_name}.op.raw')\n",
    "        os.remove(f'{cir_path}_{test_name}.log')"
   ]
  },
  {
   "cell_type": "markdown",
   "id": "6bf539d3",
   "metadata": {},
   "source": [
    "# 並列共振回路ver.\n",
    "\n",
    "シミュレーションを回しなおさなくていい場合、**<span style=\"color: green; \"> 緑太字で示した部分</span>**をコメントアウトする"
   ]
  },
  {
   "cell_type": "markdown",
   "id": "5640a67b",
   "metadata": {},
   "source": [
    "## コイルの設計→Lに当たりつけてシミュレーション\n",
    "\n",
    "シミュレーションをするコイルのインダクタンス値を用意する"
   ]
  },
  {
   "cell_type": "code",
   "execution_count": 3,
   "id": "57ff9e19",
   "metadata": {
    "scrolled": true
   },
   "outputs": [
    {
     "data": {
      "text/html": [
       "<div>\n",
       "<style scoped>\n",
       "    .dataframe tbody tr th:only-of-type {\n",
       "        vertical-align: middle;\n",
       "    }\n",
       "\n",
       "    .dataframe tbody tr th {\n",
       "        vertical-align: top;\n",
       "    }\n",
       "\n",
       "    .dataframe thead th {\n",
       "        text-align: right;\n",
       "    }\n",
       "</style>\n",
       "<table border=\"1\" class=\"dataframe\">\n",
       "  <thead>\n",
       "    <tr style=\"text-align: right;\">\n",
       "      <th></th>\n",
       "      <th>Unnamed: 0</th>\n",
       "      <th>w</th>\n",
       "      <th>s</th>\n",
       "      <th>n</th>\n",
       "      <th>$L(\\mu H)$</th>\n",
       "      <th>$R_L(\\mu \\Omega)$</th>\n",
       "      <th>$C(\\mu F)$</th>\n",
       "    </tr>\n",
       "  </thead>\n",
       "  <tbody>\n",
       "    <tr>\n",
       "      <th>6568</th>\n",
       "      <td>6568</td>\n",
       "      <td>4.9</td>\n",
       "      <td>3.4</td>\n",
       "      <td>1.0</td>\n",
       "      <td>0.042649</td>\n",
       "      <td>3.449563</td>\n",
       "      <td>14.847971</td>\n",
       "    </tr>\n",
       "    <tr>\n",
       "      <th>6533</th>\n",
       "      <td>6533</td>\n",
       "      <td>4.8</td>\n",
       "      <td>3.6</td>\n",
       "      <td>1.0</td>\n",
       "      <td>0.042706</td>\n",
       "      <td>3.480000</td>\n",
       "      <td>14.828440</td>\n",
       "    </tr>\n",
       "    <tr>\n",
       "      <th>6567</th>\n",
       "      <td>6567</td>\n",
       "      <td>4.9</td>\n",
       "      <td>3.3</td>\n",
       "      <td>1.0</td>\n",
       "      <td>0.042907</td>\n",
       "      <td>3.530729</td>\n",
       "      <td>14.758879</td>\n",
       "    </tr>\n",
       "    <tr>\n",
       "      <th>6532</th>\n",
       "      <td>6532</td>\n",
       "      <td>4.8</td>\n",
       "      <td>3.5</td>\n",
       "      <td>1.0</td>\n",
       "      <td>0.042961</td>\n",
       "      <td>3.562857</td>\n",
       "      <td>14.740209</td>\n",
       "    </tr>\n",
       "    <tr>\n",
       "      <th>6495</th>\n",
       "      <td>6495</td>\n",
       "      <td>4.7</td>\n",
       "      <td>3.7</td>\n",
       "      <td>1.0</td>\n",
       "      <td>0.043023</td>\n",
       "      <td>3.596353</td>\n",
       "      <td>14.719179</td>\n",
       "    </tr>\n",
       "    <tr>\n",
       "      <th>...</th>\n",
       "      <td>...</td>\n",
       "      <td>...</td>\n",
       "      <td>...</td>\n",
       "      <td>...</td>\n",
       "      <td>...</td>\n",
       "      <td>...</td>\n",
       "      <td>...</td>\n",
       "    </tr>\n",
       "    <tr>\n",
       "      <th>65</th>\n",
       "      <td>65</td>\n",
       "      <td>0.1</td>\n",
       "      <td>0.1</td>\n",
       "      <td>66.0</td>\n",
       "      <td>66.195166</td>\n",
       "      <td>69.600000</td>\n",
       "      <td>0.009567</td>\n",
       "    </tr>\n",
       "    <tr>\n",
       "      <th>61</th>\n",
       "      <td>61</td>\n",
       "      <td>0.1</td>\n",
       "      <td>0.1</td>\n",
       "      <td>62.0</td>\n",
       "      <td>66.197686</td>\n",
       "      <td>101.417143</td>\n",
       "      <td>0.009566</td>\n",
       "    </tr>\n",
       "    <tr>\n",
       "      <th>64</th>\n",
       "      <td>64</td>\n",
       "      <td>0.1</td>\n",
       "      <td>0.1</td>\n",
       "      <td>65.0</td>\n",
       "      <td>66.270858</td>\n",
       "      <td>77.554286</td>\n",
       "      <td>0.009556</td>\n",
       "    </tr>\n",
       "    <tr>\n",
       "      <th>62</th>\n",
       "      <td>62</td>\n",
       "      <td>0.1</td>\n",
       "      <td>0.1</td>\n",
       "      <td>63.0</td>\n",
       "      <td>66.272524</td>\n",
       "      <td>93.462857</td>\n",
       "      <td>0.009555</td>\n",
       "    </tr>\n",
       "    <tr>\n",
       "      <th>63</th>\n",
       "      <td>63</td>\n",
       "      <td>0.1</td>\n",
       "      <td>0.1</td>\n",
       "      <td>64.0</td>\n",
       "      <td>66.296788</td>\n",
       "      <td>85.508571</td>\n",
       "      <td>0.009552</td>\n",
       "    </tr>\n",
       "  </tbody>\n",
       "</table>\n",
       "<p>6569 rows × 7 columns</p>\n",
       "</div>"
      ],
      "text/plain": [
       "      Unnamed: 0    w    s     n  $L(\\mu H)$  $R_L(\\mu \\Omega)$  $C(\\mu F)$\n",
       "6568        6568  4.9  3.4   1.0    0.042649           3.449563   14.847971\n",
       "6533        6533  4.8  3.6   1.0    0.042706           3.480000   14.828440\n",
       "6567        6567  4.9  3.3   1.0    0.042907           3.530729   14.758879\n",
       "6532        6532  4.8  3.5   1.0    0.042961           3.562857   14.740209\n",
       "6495        6495  4.7  3.7   1.0    0.043023           3.596353   14.719179\n",
       "...          ...  ...  ...   ...         ...                ...         ...\n",
       "65            65  0.1  0.1  66.0   66.195166          69.600000    0.009567\n",
       "61            61  0.1  0.1  62.0   66.197686         101.417143    0.009566\n",
       "64            64  0.1  0.1  65.0   66.270858          77.554286    0.009556\n",
       "62            62  0.1  0.1  63.0   66.272524          93.462857    0.009555\n",
       "63            63  0.1  0.1  64.0   66.296788          85.508571    0.009552\n",
       "\n",
       "[6569 rows x 7 columns]"
      ]
     },
     "execution_count": 3,
     "metadata": {},
     "output_type": "execute_result"
    }
   ],
   "source": [
    "L_str = '$L(\\mu H)$'\n",
    "r_str = '$R_L(\\mu \\Omega)$'\n",
    "C_str = '$C(\\mu F)$'\n",
    "R_str = '$R(\\Omega)$'\n",
    "coil_list = pd.read_csv('../coil_design/coil_list.csv').sort_values(L_str)\n",
    "coil_list"
   ]
  },
  {
   "cell_type": "markdown",
   "id": "aafa036c",
   "metadata": {},
   "source": [
    "## コイルのインダクタンスLと直列負荷抵抗Rを変数としたシミュレーション\n",
    "\n",
    "### <span style=\"color: red; \">変数指定</span>\n",
    "テストするL, Rの範囲と間隔を指定(単位はLはμH, RはΩ)"
   ]
  },
  {
   "cell_type": "code",
   "execution_count": 4,
   "id": "c4e7d23d",
   "metadata": {},
   "outputs": [],
   "source": [
    "# Rは単位Ω, 範囲指定はlogスケールで行う\n",
    "R_start = -1\n",
    "R_end = 3\n",
    "R_num = 37\n",
    "\n",
    "# 結合係数Kは0.1で固定\n",
    "K=0.1\n",
    "\n",
    "# t_cutは5msシミュレーションなので0.0049\n",
    "t_cut_time = 0.0049\n",
    "\n",
    "# テスト元にするcirファイルのパス\n",
    "cir_path = '/Users/yuki/Documents/LTspice/test/parallel_0930/main_parallel'"
   ]
  },
  {
   "cell_type": "markdown",
   "id": "8fac2721",
   "metadata": {},
   "source": [
    "変数のリストを用意"
   ]
  },
  {
   "cell_type": "code",
   "execution_count": 5,
   "id": "87824dfa",
   "metadata": {},
   "outputs": [],
   "source": [
    "# 浮動少数点数型の変数の配列\n",
    "L_values_num = list(coil_list[L_str])[::20]\n",
    "L_num = len(L_values_num)\n",
    "C_values_num = list(coil_list[C_str])[::20]\n",
    "C_num = len(C_values_num)\n",
    "R_values_num = list(np.logspace(R_start, R_end, R_num))\n",
    "\n",
    "# 文字列型の変数の配列\n",
    "L_values = list(map(lambda x: str(x)+\"u\", L_values_num))\n",
    "C_values = list(map(lambda x: str(x)+\"u\", C_values_num))\n",
    "R_values = list(map(lambda x: str(x), R_values_num))"
   ]
  },
  {
   "cell_type": "markdown",
   "id": "45478860",
   "metadata": {},
   "source": [
    "収集するデータのDataFrame用のカラムを準備"
   ]
  },
  {
   "cell_type": "code",
   "execution_count": 6,
   "id": "5ca4205a",
   "metadata": {},
   "outputs": [],
   "source": [
    "columns = [L_str,'L_str', R_str, 'R_str', C_str, 'C_str', 'V(out)', 'W']"
   ]
  },
  {
   "cell_type": "markdown",
   "id": "9fc8ef89",
   "metadata": {},
   "source": [
    "## <span style=\"color: red; \">条件増やしたり変えたらここも変更チェック\n",
    "条件を表す文字列を作成"
   ]
  },
  {
   "cell_type": "code",
   "execution_count": 9,
   "id": "60ce45ee",
   "metadata": {},
   "outputs": [
    {
     "data": {
      "text/plain": [
       "'parallel_0930_L:0.043~65.895(n=329)_R:0.1~1000.0(n=37)_K:0.1'"
      ]
     },
     "execution_count": 9,
     "metadata": {},
     "output_type": "execute_result"
    }
   ],
   "source": [
    "condition = 'parallel_0930'\n",
    "condition += f'_L:{round(L_values_num[0], 3)}~{round(L_values_num[-1], 3)}(n={L_num})_R:{R_values[0]}~{R_values[-1]}(n={R_num})_K:{K}'\n",
    "condition"
   ]
  },
  {
   "cell_type": "markdown",
   "id": "8d337ffb",
   "metadata": {},
   "source": [
    "結果保存用の条件別のフォルダを作成"
   ]
  },
  {
   "cell_type": "code",
   "execution_count": 10,
   "id": "3d040141",
   "metadata": {},
   "outputs": [],
   "source": [
    "result_dir = f'../result/{condition}'\n",
    "if not os.path.isdir(result_dir):\n",
    "    os.mkdir(result_dir)"
   ]
  },
  {
   "cell_type": "markdown",
   "id": "acf47b94",
   "metadata": {},
   "source": [
    "## 全パターンのシミュレーションの実行&CSVに保存\n",
    "\n",
    "### <span style=\"color: green; \">完了している場合はコメントアウトしておく"
   ]
  },
  {
   "cell_type": "code",
   "execution_count": 26,
   "id": "837a9279",
   "metadata": {},
   "outputs": [],
   "source": [
    "# sim_df = pd.DataFrame(columns= columns)\n",
    "# change_elements = {}\n",
    "# change_elements['K'] = K\n",
    "\n",
    "# for i in tqdm(range(L_num)):\n",
    "#     change_elements['L'] = L_values[i]\n",
    "#     change_elements['C'] = C_values[i]\n",
    "#     for r in tqdm(range(R_num)):\n",
    "#         change_elements['R'] = R_values[r]\n",
    "#         parallel = Standingwave(cir_path)\n",
    "#         test_name = get_test_name(change_elements)\n",
    "#         parallel.change_element_run(change_elements)\n",
    "#         parallel.change_element_df_save(change_elements)\n",
    "# #         parallel.t_cut(t_cut_time)\n",
    "#         v = parallel.get_amp_means()[\"V(test)\"][test_name]\n",
    "#         W_mean = parallel.get_W('I(R1)', 'V(a)', change_elements=change_elements, t_cut_time=t_cut_time)['W'].mean()\n",
    "#         sim_df = sim_df.append({\n",
    "#             L_str: L_values_num[i], \n",
    "#             'L_str': L_values[i], \n",
    "#             R_str: R_values_num[r],\n",
    "#             'R_str': R_values[r], \n",
    "#             C_str: C_values_num[i], \n",
    "#             'C_str': C_values[i], \n",
    "#             'V(out)': v, \n",
    "#             'W': W_mean\n",
    "#         }, ignore_index=True)\n",
    "#         delete_simfiles(f'{cir_path}_{test_name}')\n",
    "#         del parallel\n",
    "#         gc.collect()\n",
    "# sim_df.to_csv(f'{result_dir}/LRC_VW.csv')"
   ]
  },
  {
   "cell_type": "markdown",
   "id": "85696b86",
   "metadata": {},
   "source": [
    "## csvからデータを読みこみ"
   ]
  },
  {
   "cell_type": "code",
   "execution_count": 12,
   "id": "5a14776c",
   "metadata": {},
   "outputs": [
    {
     "data": {
      "text/html": [
       "<div>\n",
       "<style scoped>\n",
       "    .dataframe tbody tr th:only-of-type {\n",
       "        vertical-align: middle;\n",
       "    }\n",
       "\n",
       "    .dataframe tbody tr th {\n",
       "        vertical-align: top;\n",
       "    }\n",
       "\n",
       "    .dataframe thead th {\n",
       "        text-align: right;\n",
       "    }\n",
       "</style>\n",
       "<table border=\"1\" class=\"dataframe\">\n",
       "  <thead>\n",
       "    <tr style=\"text-align: right;\">\n",
       "      <th></th>\n",
       "      <th>Unnamed: 0</th>\n",
       "      <th>$L(\\mu H)$</th>\n",
       "      <th>L_str</th>\n",
       "      <th>$R(\\Omega)$</th>\n",
       "      <th>R_str</th>\n",
       "      <th>$C(\\mu F)$</th>\n",
       "      <th>C_str</th>\n",
       "      <th>V(out)</th>\n",
       "      <th>W</th>\n",
       "    </tr>\n",
       "  </thead>\n",
       "  <tbody>\n",
       "    <tr>\n",
       "      <th>0</th>\n",
       "      <td>0</td>\n",
       "      <td>0.042649</td>\n",
       "      <td>0.0426494232775542u</td>\n",
       "      <td>0.100000</td>\n",
       "      <td>0.1</td>\n",
       "      <td>14.847971</td>\n",
       "      <td>14.84797094777797u</td>\n",
       "      <td>2.398797</td>\n",
       "      <td>3.903056</td>\n",
       "    </tr>\n",
       "    <tr>\n",
       "      <th>1</th>\n",
       "      <td>1</td>\n",
       "      <td>0.042649</td>\n",
       "      <td>0.0426494232775542u</td>\n",
       "      <td>0.129155</td>\n",
       "      <td>0.1291549665014884</td>\n",
       "      <td>14.847971</td>\n",
       "      <td>14.84797094777797u</td>\n",
       "      <td>1.603435</td>\n",
       "      <td>4.370126</td>\n",
       "    </tr>\n",
       "    <tr>\n",
       "      <th>2</th>\n",
       "      <td>2</td>\n",
       "      <td>0.042649</td>\n",
       "      <td>0.0426494232775542u</td>\n",
       "      <td>0.166810</td>\n",
       "      <td>0.16681005372000587</td>\n",
       "      <td>14.847971</td>\n",
       "      <td>14.84797094777797u</td>\n",
       "      <td>2.987027</td>\n",
       "      <td>4.878799</td>\n",
       "    </tr>\n",
       "    <tr>\n",
       "      <th>3</th>\n",
       "      <td>3</td>\n",
       "      <td>0.042649</td>\n",
       "      <td>0.0426494232775542u</td>\n",
       "      <td>0.215443</td>\n",
       "      <td>0.21544346900318834</td>\n",
       "      <td>14.847971</td>\n",
       "      <td>14.84797094777797u</td>\n",
       "      <td>2.944247</td>\n",
       "      <td>5.251678</td>\n",
       "    </tr>\n",
       "    <tr>\n",
       "      <th>4</th>\n",
       "      <td>4</td>\n",
       "      <td>0.042649</td>\n",
       "      <td>0.0426494232775542u</td>\n",
       "      <td>0.278256</td>\n",
       "      <td>0.2782559402207124</td>\n",
       "      <td>14.847971</td>\n",
       "      <td>14.84797094777797u</td>\n",
       "      <td>1.591558</td>\n",
       "      <td>5.333342</td>\n",
       "    </tr>\n",
       "    <tr>\n",
       "      <th>...</th>\n",
       "      <td>...</td>\n",
       "      <td>...</td>\n",
       "      <td>...</td>\n",
       "      <td>...</td>\n",
       "      <td>...</td>\n",
       "      <td>...</td>\n",
       "      <td>...</td>\n",
       "      <td>...</td>\n",
       "      <td>...</td>\n",
       "    </tr>\n",
       "    <tr>\n",
       "      <th>12168</th>\n",
       "      <td>12168</td>\n",
       "      <td>65.895054</td>\n",
       "      <td>65.8950538142599u</td>\n",
       "      <td>359.381366</td>\n",
       "      <td>359.38136638046257</td>\n",
       "      <td>0.009610</td>\n",
       "      <td>0.0096100900008305u</td>\n",
       "      <td>5.190379</td>\n",
       "      <td>0.024831</td>\n",
       "    </tr>\n",
       "    <tr>\n",
       "      <th>12169</th>\n",
       "      <td>12169</td>\n",
       "      <td>65.895054</td>\n",
       "      <td>65.8950538142599u</td>\n",
       "      <td>464.158883</td>\n",
       "      <td>464.15888336127773</td>\n",
       "      <td>0.009610</td>\n",
       "      <td>0.0096100900008305u</td>\n",
       "      <td>4.880576</td>\n",
       "      <td>0.020851</td>\n",
       "    </tr>\n",
       "    <tr>\n",
       "      <th>12170</th>\n",
       "      <td>12170</td>\n",
       "      <td>65.895054</td>\n",
       "      <td>65.8950538142599u</td>\n",
       "      <td>599.484250</td>\n",
       "      <td>599.4842503189409</td>\n",
       "      <td>0.009610</td>\n",
       "      <td>0.0096100900008305u</td>\n",
       "      <td>2.927036</td>\n",
       "      <td>0.015199</td>\n",
       "    </tr>\n",
       "    <tr>\n",
       "      <th>12171</th>\n",
       "      <td>12171</td>\n",
       "      <td>65.895054</td>\n",
       "      <td>65.8950538142599u</td>\n",
       "      <td>774.263683</td>\n",
       "      <td>774.263682681127</td>\n",
       "      <td>0.009610</td>\n",
       "      <td>0.0096100900008305u</td>\n",
       "      <td>1.469795</td>\n",
       "      <td>0.011948</td>\n",
       "    </tr>\n",
       "    <tr>\n",
       "      <th>12172</th>\n",
       "      <td>12172</td>\n",
       "      <td>65.895054</td>\n",
       "      <td>65.8950538142599u</td>\n",
       "      <td>1000.000000</td>\n",
       "      <td>1000.0</td>\n",
       "      <td>0.009610</td>\n",
       "      <td>0.0096100900008305u</td>\n",
       "      <td>0.797245</td>\n",
       "      <td>0.009167</td>\n",
       "    </tr>\n",
       "  </tbody>\n",
       "</table>\n",
       "<p>12173 rows × 9 columns</p>\n",
       "</div>"
      ],
      "text/plain": [
       "       Unnamed: 0  $L(\\mu H)$                L_str  $R(\\Omega)$  \\\n",
       "0               0    0.042649  0.0426494232775542u     0.100000   \n",
       "1               1    0.042649  0.0426494232775542u     0.129155   \n",
       "2               2    0.042649  0.0426494232775542u     0.166810   \n",
       "3               3    0.042649  0.0426494232775542u     0.215443   \n",
       "4               4    0.042649  0.0426494232775542u     0.278256   \n",
       "...           ...         ...                  ...          ...   \n",
       "12168       12168   65.895054    65.8950538142599u   359.381366   \n",
       "12169       12169   65.895054    65.8950538142599u   464.158883   \n",
       "12170       12170   65.895054    65.8950538142599u   599.484250   \n",
       "12171       12171   65.895054    65.8950538142599u   774.263683   \n",
       "12172       12172   65.895054    65.8950538142599u  1000.000000   \n",
       "\n",
       "                     R_str  $C(\\mu F)$                C_str    V(out)  \\\n",
       "0                      0.1   14.847971   14.84797094777797u  2.398797   \n",
       "1       0.1291549665014884   14.847971   14.84797094777797u  1.603435   \n",
       "2      0.16681005372000587   14.847971   14.84797094777797u  2.987027   \n",
       "3      0.21544346900318834   14.847971   14.84797094777797u  2.944247   \n",
       "4       0.2782559402207124   14.847971   14.84797094777797u  1.591558   \n",
       "...                    ...         ...                  ...       ...   \n",
       "12168   359.38136638046257    0.009610  0.0096100900008305u  5.190379   \n",
       "12169   464.15888336127773    0.009610  0.0096100900008305u  4.880576   \n",
       "12170    599.4842503189409    0.009610  0.0096100900008305u  2.927036   \n",
       "12171     774.263682681127    0.009610  0.0096100900008305u  1.469795   \n",
       "12172               1000.0    0.009610  0.0096100900008305u  0.797245   \n",
       "\n",
       "              W  \n",
       "0      3.903056  \n",
       "1      4.370126  \n",
       "2      4.878799  \n",
       "3      5.251678  \n",
       "4      5.333342  \n",
       "...         ...  \n",
       "12168  0.024831  \n",
       "12169  0.020851  \n",
       "12170  0.015199  \n",
       "12171  0.011948  \n",
       "12172  0.009167  \n",
       "\n",
       "[12173 rows x 9 columns]"
      ]
     },
     "execution_count": 12,
     "metadata": {},
     "output_type": "execute_result"
    }
   ],
   "source": [
    "csv_df = pd.read_csv(f'{result_dir}/LRC_VW.csv', dtype = {'L_str':'object', 'R_str':'object',  'C_str':'object'})\n",
    "csv_df"
   ]
  },
  {
   "cell_type": "markdown",
   "id": "682bc094",
   "metadata": {},
   "source": [
    "# 出力側電圧\n",
    "\n",
    "## L別にRと出力側電圧振幅の関係をみる"
   ]
  },
  {
   "cell_type": "markdown",
   "id": "c7e2579e",
   "metadata": {},
   "source": [
    "波形確認"
   ]
  },
  {
   "cell_type": "code",
   "execution_count": 27,
   "id": "23511716",
   "metadata": {},
   "outputs": [],
   "source": [
    "# change_elements = {}\n",
    "# change_elements['K'] = K\n",
    "\n",
    "# # count = 0\n",
    "\n",
    "# for L in tqdm(L_values[50:60]):\n",
    "#     parallel = Standingwave(cir_path)\n",
    "#     change_elements['L'] = L\n",
    "#     for R in R_values:\n",
    "#         change_elements['R'] = R\n",
    "#         parallel.change_element_df_save(change_elements)\n",
    "#     parallel.t_cut(0.0049)\n",
    "# #     if count>55:\n",
    "#     parallel.dfs[\"V(test)\"][f'K=0.1L={L}R=1000.0'].plot(x=\"t\", y=\"V(test)\", title = f'L={L}H')\n",
    "#     del parallel\n",
    "#     gc.collect()"
   ]
  },
  {
   "cell_type": "markdown",
   "id": "ba5c18a4",
   "metadata": {},
   "source": [
    "描画(x, yどちらも対数軸)して保存"
   ]
  },
  {
   "cell_type": "code",
   "execution_count": 30,
   "id": "2cdd92b8",
   "metadata": {},
   "outputs": [],
   "source": [
    "ncols=3\n",
    "nrows = 1+len(L_values)//ncols\n",
    "\n",
    "fig, axes = plt.subplots(nrows=nrows, ncols=ncols, figsize=(18, 6*nrows))\n",
    "plt_count = 0\n",
    "for L in L_values[::10]:\n",
    "    csv_df[csv_df['L_str']==L].plot(x=R_str, y=\"V(out)\", title = f'L={L}uH', loglog = True, ax=axes[plt_count//ncols, plt_count%ncols])\n",
    "    plt_count+=1\n",
    "plt.savefig(f'{result_dir}/R_amp.png')\n",
    "plt.close('all')"
   ]
  },
  {
   "cell_type": "markdown",
   "id": "f6337276",
   "metadata": {},
   "source": [
    "## R別にLと出力側電圧振幅の関係をみる"
   ]
  },
  {
   "cell_type": "markdown",
   "id": "7b9ae9de",
   "metadata": {},
   "source": [
    "描画(x, yどちらも対数軸)して保存"
   ]
  },
  {
   "cell_type": "code",
   "execution_count": 15,
   "id": "00a0f5d8",
   "metadata": {},
   "outputs": [],
   "source": [
    "ncols=3\n",
    "nrows = 1+len(R_values)//ncols\n",
    "\n",
    "fig, axes = plt.subplots(nrows=nrows, ncols=ncols, figsize=(18, 6*nrows))\n",
    "plt_count = 0\n",
    "for R in R_values:\n",
    "    csv_df[csv_df['R_str']==R].plot(x=L_str, y=\"V(out)\", title = f'R={R}Ω', loglog = True, ax=axes[plt_count//ncols, plt_count%ncols])\n",
    "    plt_count+=1\n",
    "plt.savefig(f'{result_dir}/L_amp.png')\n",
    "plt.close('all')"
   ]
  },
  {
   "cell_type": "markdown",
   "id": "bf165657",
   "metadata": {},
   "source": [
    "## 出力電圧が最高だったテストパターン"
   ]
  },
  {
   "cell_type": "code",
   "execution_count": 16,
   "id": "2c5fe422",
   "metadata": {
    "scrolled": true
   },
   "outputs": [
    {
     "data": {
      "text/html": [
       "<div>\n",
       "<style scoped>\n",
       "    .dataframe tbody tr th:only-of-type {\n",
       "        vertical-align: middle;\n",
       "    }\n",
       "\n",
       "    .dataframe tbody tr th {\n",
       "        vertical-align: top;\n",
       "    }\n",
       "\n",
       "    .dataframe thead th {\n",
       "        text-align: right;\n",
       "    }\n",
       "</style>\n",
       "<table border=\"1\" class=\"dataframe\">\n",
       "  <thead>\n",
       "    <tr style=\"text-align: right;\">\n",
       "      <th></th>\n",
       "      <th>Unnamed: 0</th>\n",
       "      <th>$L(\\mu H)$</th>\n",
       "      <th>L_str</th>\n",
       "      <th>$R(\\Omega)$</th>\n",
       "      <th>R_str</th>\n",
       "      <th>$C(\\mu F)$</th>\n",
       "      <th>C_str</th>\n",
       "      <th>V(out)</th>\n",
       "      <th>W</th>\n",
       "    </tr>\n",
       "  </thead>\n",
       "  <tbody>\n",
       "    <tr>\n",
       "      <th>11289</th>\n",
       "      <td>11289</td>\n",
       "      <td>4.489743</td>\n",
       "      <td>4.489743245629728u</td>\n",
       "      <td>0.278256</td>\n",
       "      <td>0.2782559402207124</td>\n",
       "      <td>0.141045</td>\n",
       "      <td>0.1410453478338694u</td>\n",
       "      <td>120.3267</td>\n",
       "      <td>2.274041</td>\n",
       "    </tr>\n",
       "  </tbody>\n",
       "</table>\n",
       "</div>"
      ],
      "text/plain": [
       "       Unnamed: 0  $L(\\mu H)$               L_str  $R(\\Omega)$  \\\n",
       "11289       11289    4.489743  4.489743245629728u     0.278256   \n",
       "\n",
       "                    R_str  $C(\\mu F)$                C_str    V(out)         W  \n",
       "11289  0.2782559402207124    0.141045  0.1410453478338694u  120.3267  2.274041  "
      ]
     },
     "execution_count": 16,
     "metadata": {},
     "output_type": "execute_result"
    }
   ],
   "source": [
    "max_v = csv_df[csv_df['V(out)']==csv_df['V(out)'].max()]\n",
    "max_v"
   ]
  },
  {
   "cell_type": "markdown",
   "id": "f3585ff0",
   "metadata": {},
   "source": [
    "# 入力側消費電力\n",
    "\n",
    "## L別でRと整定後の平均消費電力の関係をみる"
   ]
  },
  {
   "cell_type": "markdown",
   "id": "a988721a",
   "metadata": {},
   "source": [
    "波形確認"
   ]
  },
  {
   "cell_type": "code",
   "execution_count": 17,
   "id": "8bd82161",
   "metadata": {},
   "outputs": [],
   "source": [
    "# change_elements = {}\n",
    "# change_elements['K'] = K\n",
    "\n",
    "# ncols=3\n",
    "# nrows = 1+20//ncols\n",
    "\n",
    "# fig, axes = plt.subplots(nrows=nrows, ncols=ncols, figsize=(18, 6*nrows))\n",
    "# plt_count = 0\n",
    "\n",
    "# for L in tqdm(L_values[59:60]):\n",
    "#     parallel = Standingwave(cir_path)\n",
    "#     change_elements['L'] = L\n",
    "#     hoge = 0\n",
    "#     for R in R_values:\n",
    "#         change_elements['R'] = R\n",
    "#         if hoge < 20:\n",
    "#             w = parallel.get_W('I(R1)', 'V(a)', change_elements=change_elements)\n",
    "#             w.plot(x=\"t\", y=\"W\", title = f'R={R}Ω', ax=axes[plt_count//ncols, plt_count%ncols])\n",
    "#             plt_count+=1\n",
    "#         hoge +=1\n",
    "#     del parallel\n",
    "#     gc.collect()\n",
    "# plt.savefig(f'{result_dir}/W_waves_L=1000.png')\n",
    "# plt.close('all')"
   ]
  },
  {
   "cell_type": "markdown",
   "id": "359a05ca",
   "metadata": {},
   "source": [
    "描画(x, yどちらも対数軸)して保存"
   ]
  },
  {
   "cell_type": "code",
   "execution_count": 18,
   "id": "3c8e820b",
   "metadata": {},
   "outputs": [],
   "source": [
    "# ncols=3\n",
    "# nrows = 1+len(L_values)//ncols\n",
    "\n",
    "# fig, axes = plt.subplots(nrows=nrows, ncols=ncols, figsize=(18, 6*nrows))\n",
    "# plt_count = 0\n",
    "# for L in L_values:\n",
    "#     csv_df[csv_df['L_str']==L].plot(x=\"R\", y=\"W\", title = f'L={L}uH', loglog = True, ax=axes[plt_count//ncols, plt_count%ncols])\n",
    "#     plt_count+=1\n",
    "# plt.savefig(f'{result_dir}/R_W.png')\n",
    "# plt.close('all')"
   ]
  },
  {
   "cell_type": "markdown",
   "id": "bd1bc769",
   "metadata": {},
   "source": [
    "## R別でLと整定後の平均消費電力の関係をみる"
   ]
  },
  {
   "cell_type": "markdown",
   "id": "e4235bfe",
   "metadata": {},
   "source": [
    "描画(x, yどちらも対数軸)して保存"
   ]
  },
  {
   "cell_type": "code",
   "execution_count": 19,
   "id": "9f91868b",
   "metadata": {},
   "outputs": [],
   "source": [
    "ncols=3\n",
    "nrows = 1+len(R_values)//ncols\n",
    "\n",
    "fig, axes = plt.subplots(nrows=nrows, ncols=ncols, figsize=(18, 6*nrows))\n",
    "plt_count = 0\n",
    "for R in R_values:\n",
    "    csv_df[csv_df['R_str']==R].plot(x=L_str, y=\"W\", title = f'R={R}Ω', loglog = True, ax=axes[plt_count//ncols, plt_count%ncols])\n",
    "    plt_count+=1\n",
    "plt.savefig(f'{result_dir}/L_W.png')\n",
    "plt.close('all')"
   ]
  },
  {
   "cell_type": "markdown",
   "id": "9c11d226",
   "metadata": {},
   "source": [
    "## 平均消費電力が最小だったテストパターン"
   ]
  },
  {
   "cell_type": "code",
   "execution_count": 20,
   "id": "0b1f9026",
   "metadata": {},
   "outputs": [
    {
     "data": {
      "text/html": [
       "<div>\n",
       "<style scoped>\n",
       "    .dataframe tbody tr th:only-of-type {\n",
       "        vertical-align: middle;\n",
       "    }\n",
       "\n",
       "    .dataframe tbody tr th {\n",
       "        vertical-align: top;\n",
       "    }\n",
       "\n",
       "    .dataframe thead th {\n",
       "        text-align: right;\n",
       "    }\n",
       "</style>\n",
       "<table border=\"1\" class=\"dataframe\">\n",
       "  <thead>\n",
       "    <tr style=\"text-align: right;\">\n",
       "      <th></th>\n",
       "      <th>Unnamed: 0</th>\n",
       "      <th>$L(\\mu H)$</th>\n",
       "      <th>L_str</th>\n",
       "      <th>$R(\\Omega)$</th>\n",
       "      <th>R_str</th>\n",
       "      <th>$C(\\mu F)$</th>\n",
       "      <th>C_str</th>\n",
       "      <th>V(out)</th>\n",
       "      <th>W</th>\n",
       "    </tr>\n",
       "  </thead>\n",
       "  <tbody>\n",
       "    <tr>\n",
       "      <th>11289</th>\n",
       "      <td>11289</td>\n",
       "      <td>4.489743</td>\n",
       "      <td>4.489743245629728u</td>\n",
       "      <td>0.278256</td>\n",
       "      <td>0.2782559402207124</td>\n",
       "      <td>0.141045</td>\n",
       "      <td>0.1410453478338694u</td>\n",
       "      <td>120.3267</td>\n",
       "      <td>2.274041</td>\n",
       "    </tr>\n",
       "  </tbody>\n",
       "</table>\n",
       "</div>"
      ],
      "text/plain": [
       "       Unnamed: 0  $L(\\mu H)$               L_str  $R(\\Omega)$  \\\n",
       "11289       11289    4.489743  4.489743245629728u     0.278256   \n",
       "\n",
       "                    R_str  $C(\\mu F)$                C_str    V(out)         W  \n",
       "11289  0.2782559402207124    0.141045  0.1410453478338694u  120.3267  2.274041  "
      ]
     },
     "execution_count": 20,
     "metadata": {},
     "output_type": "execute_result"
    }
   ],
   "source": [
    "min_w = csv_df[csv_df['V(out)']==csv_df['V(out)'].max()]\n",
    "min_w"
   ]
  },
  {
   "cell_type": "markdown",
   "id": "a8b3e75d",
   "metadata": {},
   "source": [
    "# 出力電圧と平均消費電力を２軸プロットする"
   ]
  },
  {
   "cell_type": "code",
   "execution_count": 21,
   "id": "9194f97b",
   "metadata": {},
   "outputs": [],
   "source": [
    "csv_df.plot(x=\"V(out)\", y=\"W\", kind='scatter')\n",
    "plt.xlabel(\"$V_{Lout}[V]$\", size=10)\n",
    "plt.ylabel(\"$W_{in}$[W]\",size=10)\n",
    "plt.savefig(f'{result_dir}/vout_w_scatterd.png')\n",
    "plt.close('all')"
   ]
  },
  {
   "cell_type": "markdown",
   "id": "7bca2cda",
   "metadata": {},
   "source": [
    "### NSGA-Ⅱを用いたパレート最適解の抽出\n",
    "多目的最適化問題に用いられる多目的遺伝的アルゴリズムのNSGA-Ⅱ(詳細はhttps://qiita.com/DS27/items/025a52b26a9f2471e67c )を用いて、非劣解を抽出する.\n",
    "用いているplatypusライブラリに関しては https://qiita.com/pontyo4/items/d8812e4f46850d746fcd を軽く参照"
   ]
  },
  {
   "cell_type": "code",
   "execution_count": 22,
   "id": "1ccf5e47",
   "metadata": {},
   "outputs": [],
   "source": [
    "def obj_func(args):\n",
    "    L_num = args[0]\n",
    "    R_num = args[1]\n",
    "    data = csv_df[(csv_df['L_str']==L_values[L_num]) & (csv_df['R_str']==R_values[R_num])]\n",
    "    return [float(data['V(out)']),float(data.W)]\n",
    "\n",
    "problem = Problem(2, 2)\n",
    "problem.directions[:] = [Problem.MAXIMIZE, Problem.MINIMIZE]\n",
    "L_num = Integer(0, len(L_values)-1)\n",
    "R_num = Integer(0, len(R_values)-1)\n",
    "problem.types[:] = [L_num, R_num]\n",
    "problem.function = obj_func\n",
    "\n",
    "algorithm = NSGAII(problem, population_size = 50)\n",
    "algorithm.run(10000)\n",
    "\n",
    "# 非劣解をとりだす\n",
    "nondominated_solutions = nondominated(algorithm.result)\n",
    "\n",
    "# グラフを描画\n",
    "plt.scatter([s.objectives[0] for s in nondominated_solutions if s.feasible],\n",
    "           [s.objectives[1] for s in nondominated_solutions if s.feasible])\n",
    "plt.savefig(f'{result_dir}/vout_w_pareto.png')\n",
    "plt.close('all')"
   ]
  },
  {
   "cell_type": "code",
   "execution_count": 23,
   "id": "0297f6ee",
   "metadata": {},
   "outputs": [],
   "source": [
    "df = pd.DataFrame(columns=(\"L\", \"L_str\", \"R\", \"R_str\", \"V(out)\", \"W\"))\n",
    "for i in range(len(nondominated_solutions)):\n",
    "    df.loc[i, \"L\"] = L_values_num[L_num.decode(nondominated_solutions[i].variables[0])]\n",
    "    df.loc[i, \"R\"] = R_values_num[R_num.decode(nondominated_solutions[i].variables[1])]\n",
    "    df.loc[i, \"L_str\"] = L_values[L_num.decode(nondominated_solutions[i].variables[0])]\n",
    "    df.loc[i, \"R_str\"] = R_values[R_num.decode(nondominated_solutions[i].variables[1])]\n",
    "    df.loc[i, \"V(out)\"] = nondominated_solutions[i].objectives[0]\n",
    "    df.loc[i, \"W\"] = nondominated_solutions[i].objectives[1]\n",
    "df.sort_values(['L', 'R'], ascending = [False, False])\n",
    "df.to_csv(result_dir+'/pareto_set.csv')"
   ]
  },
  {
   "cell_type": "code",
   "execution_count": 24,
   "id": "2155d7f2",
   "metadata": {},
   "outputs": [
    {
     "data": {
      "text/plain": [
       "<AxesSubplot:xlabel='V(out)', ylabel='W'>"
      ]
     },
     "execution_count": 24,
     "metadata": {},
     "output_type": "execute_result"
    },
    {
     "data": {
      "image/png": "[encoded data removed]",
      "text/plain": [
       "<Figure size 432x288 with 1 Axes>"
      ]
     },
     "metadata": {
      "needs_background": "light"
     },
     "output_type": "display_data"
    }
   ],
   "source": [
    "df.plot(x='V(out)', y='W', kind='scatter')"
   ]
  },
  {
   "cell_type": "code",
   "execution_count": 25,
   "id": "09162f9c",
   "metadata": {},
   "outputs": [
    {
     "data": {
      "text/html": [
       "<div>\n",
       "<style scoped>\n",
       "    .dataframe tbody tr th:only-of-type {\n",
       "        vertical-align: middle;\n",
       "    }\n",
       "\n",
       "    .dataframe tbody tr th {\n",
       "        vertical-align: top;\n",
       "    }\n",
       "\n",
       "    .dataframe thead th {\n",
       "        text-align: right;\n",
       "    }\n",
       "</style>\n",
       "<table border=\"1\" class=\"dataframe\">\n",
       "  <thead>\n",
       "    <tr style=\"text-align: right;\">\n",
       "      <th></th>\n",
       "      <th>L</th>\n",
       "      <th>L_str</th>\n",
       "      <th>R</th>\n",
       "      <th>R_str</th>\n",
       "      <th>V(out)</th>\n",
       "      <th>W</th>\n",
       "    </tr>\n",
       "  </thead>\n",
       "  <tbody>\n",
       "  </tbody>\n",
       "</table>\n",
       "</div>"
      ],
      "text/plain": [
       "Empty DataFrame\n",
       "Columns: [L, L_str, R, R_str, V(out), W]\n",
       "Index: []"
      ]
     },
     "execution_count": 25,
     "metadata": {},
     "output_type": "execute_result"
    }
   ],
   "source": [
    "df[(df[\"V(out)\"]>0.58)&(df[\"V(out)\"]<0.61)].sort_values('V(out)')"
   ]
  },
  {
   "cell_type": "code",
   "execution_count": null,
   "id": "98164e77",
   "metadata": {},
   "outputs": [],
   "source": []
  }
 ],
 "metadata": {
  "kernelspec": {
   "display_name": "Python 3 (ipykernel)",
   "language": "python",
   "name": "python3"
  },
  "language_info": {
   "codemirror_mode": {
    "name": "ipython",
    "version": 3
   },
   "file_extension": ".py",
   "mimetype": "text/x-python",
   "name": "python",
   "nbconvert_exporter": "python",
   "pygments_lexer": "ipython3",
   "version": "3.9.6"
  }
 },
 "nbformat": 4,
 "nbformat_minor": 5
}
