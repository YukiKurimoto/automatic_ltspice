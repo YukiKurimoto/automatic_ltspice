{
 "cells": [
  {
   "cell_type": "code",
   "execution_count": 48,
   "id": "8a72cf94",
   "metadata": {},
   "outputs": [],
   "source": [
    "import pandas as pd\n",
    "import matplotlib.pyplot as plt\n",
    "from circuit_class import Circuit\n",
    "from standingwave_class import Standingwave\n",
    "from circuit_class import get_test_name\n",
    "import gc\n",
    "import sys\n",
    "import numpy as np\n",
    "from tqdm import tqdm_notebook as tqdm\n",
    "import os\n",
    "from platypus import NSGAII, Problem, Real, nondominated, Integer\n",
    "import matplotlib.pyplot as plt\n",
    "from platypus.problems import DTLZ2\n",
    "import scipy"
   ]
  },
  {
   "cell_type": "markdown",
   "id": "6bf539d3",
   "metadata": {},
   "source": [
    "# 並列共振回路ver.\n",
    "\n",
    "シミュレーションを回しなおさなくていい場合、**<span style=\"color: green; \"> 緑太字で示した部分</span>**をコメントアウトする"
   ]
  },
  {
   "cell_type": "markdown",
   "id": "aafa036c",
   "metadata": {},
   "source": [
    "## コイルのインダクタンスLと直列負荷抵抗Rを変数としたシミュレーション\n",
    "\n",
    "### <span style=\"color: red; \">変数指定</span>\n",
    "テストするL, Rの範囲と間隔を指定(単位はLはμH, RはΩ)"
   ]
  },
  {
   "cell_type": "code",
   "execution_count": 49,
   "id": "c4e7d23d",
   "metadata": {},
   "outputs": [],
   "source": [
    "# Lは単位μH, 範囲指定はlogスケールで行う\n",
    "L_start = -1\n",
    "L_end = 3\n",
    "L_num = 60\n",
    "\n",
    "# Rは単位Ω, 範囲指定は線形スケールで行う\n",
    "R_start = 0\n",
    "R_end = 3\n",
    "R_num = 60\n",
    "\n",
    "# 結合係数Kは0.1で固定\n",
    "K=0.1\n",
    "\n",
    "# テスト元にするcirファイルのパス\n",
    "cir_path = '/Users/yuki/Documents/LTspice/test/parallel_0912/main_parallel'"
   ]
  },
  {
   "cell_type": "markdown",
   "id": "8fac2721",
   "metadata": {},
   "source": [
    "変数のリストを用意"
   ]
  },
  {
   "cell_type": "code",
   "execution_count": 50,
   "id": "87824dfa",
   "metadata": {},
   "outputs": [],
   "source": [
    "# 浮動少数点数型の変数の配列\n",
    "L_values_num = list(np.logspace(L_start, L_end, L_num))\n",
    "R_values_num = list(np.logspace(R_start, R_end, R_num))\n",
    "\n",
    "# 文字列型の変数の配列\n",
    "L_values = list(map(lambda x: str(x)+\"u\", L_values_num))\n",
    "R_values = list(map(lambda x: str(x), R_values_num))"
   ]
  },
  {
   "cell_type": "markdown",
   "id": "45478860",
   "metadata": {},
   "source": [
    "収集するデータのDataFrame用のカラムを準備"
   ]
  },
  {
   "cell_type": "code",
   "execution_count": 57,
   "id": "5ca4205a",
   "metadata": {},
   "outputs": [],
   "source": [
    "columns = ['L','L_str', 'R', 'R_str', 'V(out)', 'W']"
   ]
  },
  {
   "cell_type": "markdown",
   "id": "9fc8ef89",
   "metadata": {},
   "source": [
    "## <span style=\"color: red; \">条件増やしたり変えたらここも変更チェック\n",
    "条件を表す文字列を作成"
   ]
  },
  {
   "cell_type": "code",
   "execution_count": 58,
   "id": "60ce45ee",
   "metadata": {},
   "outputs": [
    {
     "data": {
      "text/plain": [
       "'parallel_0912_L:0.1u~1000.0u(n=60)_R:1.0~1000.0(n=60)_K:0.1'"
      ]
     },
     "execution_count": 58,
     "metadata": {},
     "output_type": "execute_result"
    }
   ],
   "source": [
    "condition = 'parallel_0912'\n",
    "condition += f'_L:{L_values[0]}~{L_values[-1]}(n={L_num})_R:{R_values[0]}~{R_values[-1]}(n={R_num})_K:{K}'\n",
    "condition"
   ]
  },
  {
   "cell_type": "markdown",
   "id": "8d337ffb",
   "metadata": {},
   "source": [
    "結果保存用の条件別のフォルダを作成"
   ]
  },
  {
   "cell_type": "code",
   "execution_count": 59,
   "id": "3d040141",
   "metadata": {},
   "outputs": [],
   "source": [
    "result_dir = f'result/{condition}'\n",
    "if not os.path.isdir(result_dir):\n",
    "    os.mkdir(result_dir)"
   ]
  },
  {
   "cell_type": "markdown",
   "id": "acf47b94",
   "metadata": {},
   "source": [
    "## 全パターンのシミュレーションの実行\n",
    "\n",
    "### <span style=\"color: green; \">完了している場合はコメントアウトしておく"
   ]
  },
  {
   "cell_type": "code",
   "execution_count": 60,
   "id": "837a9279",
   "metadata": {},
   "outputs": [],
   "source": [
    "# change_elements = {}\n",
    "# change_elements['K'] = K\n",
    "\n",
    "# for L in tqdm(L_values):\n",
    "#     parallel = Circuit('/Users/yuki/Documents/LTspice/test/parallel_0912/main_parallel')\n",
    "#     change_elements['L'] = L\n",
    "#     for R in tqdm(R_values):\n",
    "#         change_elements['R'] = R\n",
    "#         parallel.change_element_run(change_elements)\n",
    "#     del parallel\n",
    "#     gc.collect()"
   ]
  },
  {
   "cell_type": "markdown",
   "id": "12e1d8a0",
   "metadata": {},
   "source": [
    "# L別にRと出力側電圧振幅の関係をみる"
   ]
  },
  {
   "cell_type": "markdown",
   "id": "bcfc46ab",
   "metadata": {},
   "source": [
    "キーがL, valueがRごとの振幅のリスト、となる辞書型配列L_amp_dictを取得"
   ]
  },
  {
   "cell_type": "code",
   "execution_count": null,
   "id": "ca0326ff",
   "metadata": {},
   "outputs": [],
   "source": [
    "change_elements = {}\n",
    "change_elements['K'] = K\n",
    "\n",
    "L_amp_dict = {}\n",
    "for L in tqdm(L_values):\n",
    "    parallel = Standingwave(cir_path)\n",
    "    change_elements['L'] = L\n",
    "    for R in R_values:\n",
    "        change_elements['R'] = R\n",
    "        parallel.change_element_df_save(change_elements)\n",
    "    parallel.t_cut(0.0049)\n",
    "    L_amp_dict[L] = list(parallel.get_amp_means()[\"V(test)\"].values())\n",
    "    del parallel\n",
    "    gc.collect()"
   ]
  },
  {
   "cell_type": "markdown",
   "id": "6f3926cb",
   "metadata": {},
   "source": [
    "波形確認"
   ]
  },
  {
   "cell_type": "code",
   "execution_count": null,
   "id": "49e007f0",
   "metadata": {},
   "outputs": [],
   "source": [
    "# change_elements = {}\n",
    "# change_elements['K'] = K\n",
    "\n",
    "# # count = 0\n",
    "\n",
    "# for L in tqdm(L_values[50:60]):\n",
    "#     parallel = Standingwave(cir_path)\n",
    "#     change_elements['L'] = L\n",
    "#     for R in R_values:\n",
    "#         change_elements['R'] = R\n",
    "#         parallel.change_element_df_save(change_elements)\n",
    "#     parallel.t_cut(0.0049)\n",
    "# #     if count>55:\n",
    "#     parallel.dfs[\"V(test)\"][f'K=0.1L={L}R=1000.0'].plot(x=\"t\", y=\"V(test)\", title = f'L={L}H')\n",
    "#     del parallel\n",
    "#     gc.collect()"
   ]
  },
  {
   "cell_type": "markdown",
   "id": "564e15ed",
   "metadata": {},
   "source": [
    "描画(x, yどちらも対数軸)して保存"
   ]
  },
  {
   "cell_type": "code",
   "execution_count": null,
   "id": "9178375a",
   "metadata": {},
   "outputs": [],
   "source": [
    "ncols=3\n",
    "nrows = 1+len(L_values)//ncols\n",
    "\n",
    "fig, axes = plt.subplots(nrows=nrows, ncols=ncols, figsize=(18, 6*nrows))\n",
    "plt_count = 0\n",
    "for L in L_values:\n",
    "    R_amp_df = pd.DataFrame({\"R\":R_values_num, \"V(out)\":L_amp_dict[L]})\n",
    "    R_amp_df.plot(x=\"R\", y=\"V(out)\", title = f'L={L}H', loglog = True, ax=axes[plt_count//ncols, plt_count%ncols])\n",
    "    plt_count+=1\n",
    "plt.savefig(f'{result_dir}/R_amp.png')\n",
    "plt.close('all')"
   ]
  },
  {
   "cell_type": "markdown",
   "id": "b62289a9",
   "metadata": {},
   "source": [
    "# R別にLと出力側電圧振幅の関係をみる"
   ]
  },
  {
   "cell_type": "markdown",
   "id": "f6dff0f2",
   "metadata": {},
   "source": [
    "R_amp_dictは{R:[Lごとの電圧のリスト]]"
   ]
  },
  {
   "cell_type": "code",
   "execution_count": null,
   "id": "63495d61",
   "metadata": {},
   "outputs": [],
   "source": [
    "R_amp_dict = {}\n",
    "for i in tqdm(range(len(R_values))):\n",
    "    temp = []\n",
    "    for L in L_values:\n",
    "        temp.append(L_amp_dict[L][i])\n",
    "    R_amp_dict[R_values[i]] = temp "
   ]
  },
  {
   "cell_type": "code",
   "execution_count": null,
   "id": "3207d283",
   "metadata": {},
   "outputs": [],
   "source": [
    "# R_amp_dict"
   ]
  },
  {
   "cell_type": "markdown",
   "id": "975240f0",
   "metadata": {},
   "source": [
    "描画(x, yどちらも対数軸)して保存"
   ]
  },
  {
   "cell_type": "code",
   "execution_count": null,
   "id": "a67e0de8",
   "metadata": {},
   "outputs": [],
   "source": [
    "ncols=3\n",
    "nrows = 1+len(R_values)//ncols\n",
    "\n",
    "fig, axes = plt.subplots(nrows=nrows, ncols=ncols, figsize=(18, 6*nrows))\n",
    "plt_count = 0\n",
    "for R in R_values:\n",
    "    L_amp_df = pd.DataFrame({\"L\":L_values_num, \"V(out)\":R_amp_dict[R]})\n",
    "    L_amp_df.plot(x=\"L\", y=\"V(out)\", title = f'R={R}Ω', loglog = True, ax=axes[plt_count//ncols, plt_count%ncols])\n",
    "    plt_count+=1\n",
    "plt.savefig(f'{result_dir}/L_amp.png')\n",
    "plt.close('all')"
   ]
  },
  {
   "cell_type": "markdown",
   "id": "70c75cb7",
   "metadata": {},
   "source": [
    "### 出力電圧が最高だったテストパターン"
   ]
  },
  {
   "cell_type": "code",
   "execution_count": null,
   "id": "b4f822df",
   "metadata": {
    "scrolled": true
   },
   "outputs": [],
   "source": [
    "max_L = ''\n",
    "max_R = ''\n",
    "max_test = ''\n",
    "max_V = 0.0\n",
    "for L in L_values:\n",
    "    for i in range(len(R_values)):\n",
    "        v = L_amp_dict[L][i]\n",
    "        if v>max_V:\n",
    "            max_L = L\n",
    "            max_R = R_values[i]\n",
    "            max_V = v\n",
    "print(f\"L={max_L}H\\nR={max_R}Ω\\n→V = {max_V}\")"
   ]
  },
  {
   "cell_type": "markdown",
   "id": "c6db1528",
   "metadata": {},
   "source": [
    "# L別でRと整定後の平均消費電力の関係をみる"
   ]
  },
  {
   "cell_type": "code",
   "execution_count": null,
   "id": "ec84f15f",
   "metadata": {
    "scrolled": false
   },
   "outputs": [],
   "source": [
    "change_elements = {}\n",
    "change_elements['K'] = K\n",
    "\n",
    "L_W_dict = {}\n",
    "count = 0\n",
    "for L in tqdm(L_values):\n",
    "    parallel = Standingwave(cir_path)\n",
    "    change_elements['L'] = L\n",
    "    W_temp = []\n",
    "    for R in R_values:\n",
    "        change_elements['R'] = R\n",
    "        W_mean = parallel.get_W('I(R1)', 'V(a)', change_elements=change_elements)['W'].mean()\n",
    "        W_temp.append(W_mean)\n",
    "    L_W_dict[L] = W_temp\n",
    "    del parallel\n",
    "    gc.collect()\n",
    "    count+=1\n",
    "    sys.stdout.write(\"\\r{}/{}完了\".format(count, len(L_values)))\n",
    "    sys.stdout.flush()"
   ]
  },
  {
   "cell_type": "code",
   "execution_count": null,
   "id": "aec432e1",
   "metadata": {},
   "outputs": [],
   "source": [
    "ncols=3\n",
    "nrows = 1+len(L_values)//ncols\n",
    "\n",
    "fig, axes = plt.subplots(nrows=nrows, ncols=ncols, figsize=(18, 6*nrows))\n",
    "plt_count = 0\n",
    "for L in L_values:\n",
    "    R_W_df = pd.DataFrame({\"R\":R_values_num, \"W\":L_W_dict[L]})\n",
    "    R_W_df.plot(x=\"R\", y=\"W\", title = f'L={L}H', loglog = True, ax=axes[plt_count//ncols, plt_count%ncols])\n",
    "    plt_count+=1\n",
    "plt.savefig(f'{result_dir}/R_W.png')\n",
    "plt.close('all')"
   ]
  },
  {
   "cell_type": "markdown",
   "id": "d9d7ecb7",
   "metadata": {},
   "source": [
    "波形確認"
   ]
  },
  {
   "cell_type": "code",
   "execution_count": null,
   "id": "ca46b4ad",
   "metadata": {},
   "outputs": [],
   "source": [
    "# change_elements = {}\n",
    "# change_elements['K'] = K\n",
    "\n",
    "# ncols=3\n",
    "# nrows = 1+20//ncols\n",
    "\n",
    "# fig, axes = plt.subplots(nrows=nrows, ncols=ncols, figsize=(18, 6*nrows))\n",
    "# plt_count = 0\n",
    "\n",
    "# for L in tqdm(L_values[59:60]):\n",
    "#     parallel = Standingwave(cir_path)\n",
    "#     change_elements['L'] = L\n",
    "#     hoge = 0\n",
    "#     for R in R_values:\n",
    "#         change_elements['R'] = R\n",
    "#         if hoge < 20:\n",
    "#             w = parallel.get_W('I(R1)', 'V(a)', change_elements=change_elements)\n",
    "#             w.plot(x=\"t\", y=\"W\", title = f'R={R}Ω', ax=axes[plt_count//ncols, plt_count%ncols])\n",
    "#             plt_count+=1\n",
    "#         hoge +=1\n",
    "#     del parallel\n",
    "#     gc.collect()\n",
    "# plt.savefig(f'{result_dir}/W_waves_L=1000.png')\n",
    "# plt.close('all')"
   ]
  },
  {
   "cell_type": "markdown",
   "id": "cdffb848",
   "metadata": {},
   "source": [
    "### 最大消費電力でみる"
   ]
  },
  {
   "cell_type": "code",
   "execution_count": null,
   "id": "24bd3d5a",
   "metadata": {},
   "outputs": [],
   "source": [
    "# change_elements = {}\n",
    "# change_elements['K'] = K\n",
    "\n",
    "# L_Wmax_dict = {}\n",
    "# count = 0\n",
    "# for L in tqdm(L_values):\n",
    "#     parallel = Standingwave(cir_path)\n",
    "#     change_elements['L'] = L\n",
    "#     W_temp = []\n",
    "#     for R in R_values:\n",
    "#         change_elements['R'] = R\n",
    "#         W_max = parallel.get_W('I(R1)', 'V(a)', change_elements=change_elements)['W'].max()\n",
    "#         W_temp.append(W_max)\n",
    "#     L_Wmax_dict[L] = W_temp\n",
    "#     del parallel\n",
    "#     gc.collect()\n",
    "#     count+=1\n",
    "#     sys.stdout.write(\"\\r{}/{}完了\".format(count, len(L_values)))\n",
    "#     sys.stdout.flush()"
   ]
  },
  {
   "cell_type": "code",
   "execution_count": null,
   "id": "8924c2b9",
   "metadata": {},
   "outputs": [],
   "source": [
    "# ncols=3\n",
    "# nrows = 1+len(L_values)//ncols\n",
    "\n",
    "# fig, axes = plt.subplots(nrows=nrows, ncols=ncols, figsize=(18, 6*nrows))\n",
    "# plt_count = 0\n",
    "# for L in L_values:\n",
    "#     R_Wmax_df = pd.DataFrame({\"R\":R_values_num, \"W(max)\":L_Wmax_dict[L]})\n",
    "#     R_Wmax_df.plot(x=\"R\", y=\"W(max)\", title = f'L={L}H', loglog = True, ax=axes[plt_count//ncols, plt_count%ncols])\n",
    "#     plt_count+=1\n",
    "# plt.savefig(f'{result_dir}/R_W(max).png')\n",
    "# plt.close('all')"
   ]
  },
  {
   "cell_type": "markdown",
   "id": "8ed15177",
   "metadata": {},
   "source": [
    "# R別でLと整定後の平均消費電力の関係をみる"
   ]
  },
  {
   "cell_type": "code",
   "execution_count": null,
   "id": "020db212",
   "metadata": {},
   "outputs": [],
   "source": [
    "R_W_dict = {}\n",
    "for i in tqdm(range(len(R_values))):\n",
    "    temp = []\n",
    "    for L in L_values:\n",
    "        temp.append(L_W_dict[L][i])\n",
    "    R_W_dict[R_values[i]] = temp "
   ]
  },
  {
   "cell_type": "code",
   "execution_count": null,
   "id": "bde0a313",
   "metadata": {},
   "outputs": [],
   "source": [
    "ncols=3\n",
    "nrows = 1+len(R_values)//ncols\n",
    "\n",
    "fig, axes = plt.subplots(nrows=nrows, ncols=ncols, figsize=(18, 6*nrows))\n",
    "plt_count = 0\n",
    "for R in R_values:\n",
    "    L_W_df = pd.DataFrame({\"L\":L_values_num, \"W\":R_W_dict[R]})\n",
    "    L_W_df.plot(x=\"L\", y=\"W\", title = f'R={R}Ω', loglog = True, ax=axes[plt_count//ncols, plt_count%ncols])\n",
    "    plt_count+=1\n",
    "plt.savefig(f'{result_dir}/L_W.png')\n",
    "plt.close('all')"
   ]
  },
  {
   "cell_type": "markdown",
   "id": "68e1bdb1",
   "metadata": {},
   "source": [
    "### 最大消費電力でみる"
   ]
  },
  {
   "cell_type": "code",
   "execution_count": null,
   "id": "2c0f35e2",
   "metadata": {},
   "outputs": [],
   "source": [
    "# R_Wmax_dict = {}\n",
    "# for i in tqdm(range(len(R_values))):\n",
    "#     temp = []\n",
    "#     for L in L_values:\n",
    "#         temp.append(L_Wmax_dict[L][i])\n",
    "#     R_Wmax_dict[R_values[i]] = temp "
   ]
  },
  {
   "cell_type": "code",
   "execution_count": null,
   "id": "09020031",
   "metadata": {},
   "outputs": [],
   "source": [
    "# ncols=3\n",
    "# nrows = 1+len(R_values)//ncols\n",
    "\n",
    "# fig, axes = plt.subplots(nrows=nrows, ncols=ncols, figsize=(18, 6*nrows))\n",
    "# plt_count = 0\n",
    "# for R in R_values:\n",
    "#     L_Wmax_df = pd.DataFrame({\"L\":L_values_num, \"W(max)\":R_Wmax_dict[R]})\n",
    "#     L_Wmax_df.plot(x=\"L\", y=\"W(max)\", title = f'R={R}Ω', loglog = True, ax=axes[plt_count//ncols, plt_count%ncols])\n",
    "#     plt_count+=1\n",
    "# plt.savefig(f'{result_dir}/L_W(max).png')\n",
    "# plt.close('all')"
   ]
  },
  {
   "cell_type": "code",
   "execution_count": null,
   "id": "db492612",
   "metadata": {},
   "outputs": [],
   "source": []
  },
  {
   "cell_type": "markdown",
   "id": "9c11d226",
   "metadata": {},
   "source": [
    "### 平均消費電力が最小だったテストパターン"
   ]
  },
  {
   "cell_type": "code",
   "execution_count": null,
   "id": "0b1f9026",
   "metadata": {},
   "outputs": [],
   "source": [
    "min_L = ''\n",
    "min_R = ''\n",
    "min_W = 100000\n",
    "for L in L_values:\n",
    "    for i in range(len(R_values)):\n",
    "        w = L_W_dict[L][i]\n",
    "        if w<min_W:\n",
    "            min_L = L\n",
    "            min_R = R_values[i]\n",
    "            min_W = w\n",
    "print(f\"L={min_L}H\\nR={min_R}Ω\\n→minW = {min_W}\")"
   ]
  },
  {
   "cell_type": "markdown",
   "id": "a8b3e75d",
   "metadata": {},
   "source": [
    "# 出力電圧と平均消費電力を２軸プロットする"
   ]
  },
  {
   "cell_type": "code",
   "execution_count": null,
   "id": "39ffb104",
   "metadata": {},
   "outputs": [],
   "source": [
    "columns = ['L', 'R', 'V(out)', 'W']\n",
    "amp_w_df = pd.DataFrame(columns= columns)\n",
    "\n",
    "for L in L_values:\n",
    "    for i in range(len(R_values)):\n",
    "        amp_w_df = amp_w_df.append({'L': L, 'R': R_values[i], 'V(out)': L_amp_dict[L][i], 'W': L_W_dict[L][i]}, ignore_index=True)"
   ]
  },
  {
   "cell_type": "code",
   "execution_count": null,
   "id": "f9340d57",
   "metadata": {},
   "outputs": [],
   "source": [
    "amp_w_df"
   ]
  },
  {
   "cell_type": "code",
   "execution_count": null,
   "id": "9194f97b",
   "metadata": {},
   "outputs": [],
   "source": [
    "amp_w_df.plot(x=\"V(out)\", y=\"W\", kind='scatter')\n",
    "plt.savefig(f'{result_dir}/vout_w_scatterd.png')\n",
    "plt.close('all')"
   ]
  },
  {
   "cell_type": "markdown",
   "id": "7bca2cda",
   "metadata": {},
   "source": [
    "### NSGA-Ⅱを用いたパレート最適解の抽出\n",
    "多目的最適化問題に用いられる多目的遺伝的アルゴリズムのNSGA-Ⅱ(詳細はhttps://qiita.com/DS27/items/025a52b26a9f2471e67c )を用いて、非劣解を抽出する.\n",
    "用いているplatypusライブラリに関しては https://qiita.com/pontyo4/items/d8812e4f46850d746fcd を軽く参照"
   ]
  },
  {
   "cell_type": "code",
   "execution_count": null,
   "id": "1ccf5e47",
   "metadata": {},
   "outputs": [],
   "source": [
    "def obj_func(args):\n",
    "    L_num = args[0]\n",
    "    R_num = args[1]\n",
    "    data = amp_w_df[(amp_w_df['L']==L_values[L_num]) & (amp_w_df['R']==R_values[R_num])]\n",
    "    return [float(data['V(out)']),float(data.W)]\n",
    "\n",
    "problem = Problem(2, 2)\n",
    "problem.directions[:] = [Problem.MAXIMIZE, Problem.MINIMIZE]\n",
    "L_num = Integer(0, len(L_values)-1)\n",
    "R_num = Integer(0, len(R_values)-1)\n",
    "problem.types[:] = [L_num, R_num]\n",
    "problem.function = obj_func\n",
    "\n",
    "algorithm = NSGAII(problem, population_size = 50)\n",
    "algorithm.run(10000)\n",
    "\n",
    "# 非劣解をとりだす\n",
    "nondominated_solutions = nondominated(algorithm.result)\n",
    "\n",
    "# グラフを描画\n",
    "plt.scatter([s.objectives[0] for s in nondominated_solutions if s.feasible],\n",
    "           [s.objectives[1] for s in nondominated_solutions if s.feasible])\n",
    "plt.savefig(f'{result_dir}/vout_w_pareto.png')\n",
    "plt.close('all')"
   ]
  },
  {
   "cell_type": "code",
   "execution_count": null,
   "id": "0297f6ee",
   "metadata": {},
   "outputs": [],
   "source": [
    "df = pd.DataFrame(columns=(\"L\", \"R\", \"V(out)\", \"W\"))\n",
    "for i in range(len(nondominated_solutions)):\n",
    "    df.loc[i, \"L\"] = L_values[int1.decode(nondominated_solutions[i].variables[0])]\n",
    "    df.loc[i, \"R\"] = R_values[int2.decode(nondominated_solutions[i].variables[1])]\n",
    "    df.loc[i, \"V(out)\"] = nondominated_solutions[i].objectives[0]\n",
    "    df.loc[i, \"W\"] = nondominated_solutions[i].objectives[1]\n",
    "df.sort_values(['L', 'R'], ascending = [False, False])\n",
    "df.to_csv(result_dir+'/pareto_set.csv')"
   ]
  },
  {
   "cell_type": "code",
   "execution_count": null,
   "id": "4e3328b9",
   "metadata": {},
   "outputs": [],
   "source": [
    "df"
   ]
  },
  {
   "cell_type": "code",
   "execution_count": null,
   "id": "2155d7f2",
   "metadata": {},
   "outputs": [],
   "source": []
  },
  {
   "cell_type": "markdown",
   "id": "7c59c256",
   "metadata": {},
   "source": [
    "# 理論式を用いたインダクタンスの算出"
   ]
  },
  {
   "cell_type": "markdown",
   "id": "9f7b4ef7",
   "metadata": {},
   "source": [
    "矩形コイルのインダクタンスの理論式\n",
    "$$\n",
    "L(nH) = 1.62\\times10^{-3}\\times{d_{out}}^{-1.21}w^{-0.147}d_{avg}^{2.40}n^{1.78}s^{-0.030}\n",
    "$$\n",
    "に従って算出する。\n",
    "なお、各変数の単位はL(nH), Dout, w, Davg, sはそれぞれumである。"
   ]
  },
  {
   "cell_type": "code",
   "execution_count": null,
   "id": "711af70c",
   "metadata": {},
   "outputs": [],
   "source": [
    "n=125\n",
    "\n",
    "Dout=30*(10**(3))\n",
    "w=0.06*(10**(3))\n",
    "s=0.06*(10**(3))\n",
    "Din=Dout-w*(2*n)-s*(2*n-1) # ここは図的にこうなる\n",
    "Davg=(Dout+Din)/2\n",
    "nmax = (Dout+s)/(2*(s+w))"
   ]
  },
  {
   "cell_type": "code",
   "execution_count": null,
   "id": "59975972",
   "metadata": {},
   "outputs": [],
   "source": [
    "nmax\n",
    "Din"
   ]
  },
  {
   "cell_type": "code",
   "execution_count": null,
   "id": "4efb721d",
   "metadata": {
    "scrolled": true
   },
   "outputs": [],
   "source": [
    "1.62*(10**(-3))*(Dout**(-1.21))*(w**(-0.147))*(Davg**2.4)*(n**1.78)*(s**(-0.03))"
   ]
  },
  {
   "cell_type": "code",
   "execution_count": 3,
   "id": "44587216",
   "metadata": {},
   "outputs": [
    {
     "name": "stdout",
     "output_type": "stream",
     "text": [
      "[0.54930577 0.54930577 1.46481399]\n"
     ]
    }
   ],
   "source": [
    "# coding: utf-8                                                                                                                                                                               \n",
    "\n",
    "import math\n",
    "from scipy.optimize import newton_krylov\n",
    "\n",
    "def F(x):\n",
    "    return [\n",
    "        -2 * x[0] + x[2]*(1-math.tanh(x[0])**2),\n",
    "         -2 * x[1] + x[2]*(1-math.tanh(x[1])**2),\n",
    "         math.tanh(x[0]) + math.tanh(x[1]) - 1\n",
    "         ]\n",
    "\n",
    "guess = [1,1,0]\n",
    "\n",
    "sol = newton_krylov(F, guess, method='lgmres')\n",
    "\n",
    "print(sol)"
   ]
  },
  {
   "cell_type": "code",
   "execution_count": null,
   "id": "9455eb78",
   "metadata": {},
   "outputs": [],
   "source": []
  },
  {
   "cell_type": "code",
   "execution_count": null,
   "id": "bf3971e3",
   "metadata": {},
   "outputs": [],
   "source": []
  }
 ],
 "metadata": {
  "kernelspec": {
   "display_name": "Python 3 (ipykernel)",
   "language": "python",
   "name": "python3"
  },
  "language_info": {
   "codemirror_mode": {
    "name": "ipython",
    "version": 3
   },
   "file_extension": ".py",
   "mimetype": "text/x-python",
   "name": "python",
   "nbconvert_exporter": "python",
   "pygments_lexer": "ipython3",
   "version": "3.9.6"
  }
 },
 "nbformat": 4,
 "nbformat_minor": 5
}
