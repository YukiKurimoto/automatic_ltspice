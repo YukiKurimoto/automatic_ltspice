{
 "cells": [
  {
   "cell_type": "markdown",
   "id": "e76c85dc",
   "metadata": {},
   "source": [
    "# 理論式を用いたインダクタンスの算出"
   ]
  },
  {
   "cell_type": "code",
   "execution_count": 42,
   "id": "ffb9e146",
   "metadata": {},
   "outputs": [],
   "source": [
    "import pandas as pd\n",
    "import matplotlib.pyplot as plt\n",
    "import sys\n",
    "import numpy as np\n",
    "from tqdm import tqdm_notebook as tqdm\n",
    "import os\n",
    "import scipy                                                                                                                           \n",
    "import math\n",
    "import scipy.optimize as opt\n",
    "import sympy as sy"
   ]
  },
  {
   "cell_type": "markdown",
   "id": "7153620d",
   "metadata": {},
   "source": [
    "### <span style=\"color: red; \">変数指定</span>\n",
    "\n",
    "所望のインダクタンス$L_o$, シミュレーションを回す変数範囲"
   ]
  },
  {
   "cell_type": "code",
   "execution_count": 41,
   "id": "82db5c61",
   "metadata": {},
   "outputs": [],
   "source": [
    "# 所望のインダクタンスL_o(uH)\n",
    "Lo = 500\n",
    "# 外径(単位mm)\n",
    "Dout = 30\n",
    "# 周波数f0\n",
    "f0 = 200*10**(3)\n",
    "\n",
    "# wは単位mm, 範囲指定は線形スケールで行う\n",
    "w_start = 0.1\n",
    "w_end = 5\n",
    "w_step = 0.1\n",
    "\n",
    "# wは単位mm, 範囲指定は線形スケールで行う\n",
    "s_start = 0.1\n",
    "s_end = 5\n",
    "s_step = 0.1"
   ]
  },
  {
   "cell_type": "markdown",
   "id": "c5528d9d",
   "metadata": {},
   "source": [
    "しみゅれーしょんを回す配列準備"
   ]
  },
  {
   "cell_type": "code",
   "execution_count": 4,
   "id": "ffdbf208",
   "metadata": {},
   "outputs": [],
   "source": [
    "# 浮動少数点数型の変数の配列\n",
    "w_values = list(np.arange(w_start, w_end, w_step))\n",
    "s_values = list(np.arange(s_start, s_end, s_step))"
   ]
  },
  {
   "cell_type": "markdown",
   "id": "4f087400",
   "metadata": {},
   "source": [
    "矩形コイルのインダクタンスの理論式\n",
    "$$\n",
    "L(nH) = 1.62\\times10^{-3}\\times{d_{out}}^{-1.21}w^{-0.147}d_{avg}^{2.40}n^{1.78}s^{-0.030}\n",
    "$$\n",
    "に従って算出する。\n",
    "なお、各変数の単位はL(nH), Dout, w, Davg, sはそれぞれumである。"
   ]
  },
  {
   "cell_type": "code",
   "execution_count": 5,
   "id": "5a37b73b",
   "metadata": {},
   "outputs": [],
   "source": [
    "# 各種係数\n",
    "# 矩形コイルインダクタンス理論式\n",
    "B = 1.62*(10**(-3))\n",
    "a_dout = -1.21\n",
    "a_w = -0.147\n",
    "a_davg = 2.40\n",
    "a_n = 1.78\n",
    "a_s = -0.030\n",
    "\n",
    "# 抵抗率理論式\n",
    "sigma = 1.74*10**(-8) # 銅の抵抗率\n",
    "t = 35 # コイル銅箔厚さ(um)"
   ]
  },
  {
   "cell_type": "markdown",
   "id": "c71fcadb",
   "metadata": {},
   "source": [
    "ラグランジュの未定乗数法での数値解析は現実的でない解に関しての解析を行っている\n",
    "\n",
    "→ありうる範囲で全探索する. 各パターンで$L$と$R_L$を計算し, 目的の$L_o$の誤差5％以内のものから最も$R_L$が小さいものを選ぶ\n",
    "\n",
    "コイルの抵抗$R_L$は以下の式で表される(t, σは定数, lengthはn, w, sの関数)\n",
    "$$\n",
    "R_L(n, w, s) = \\frac{\\sigma}{tw}\\times length(n, w, s)\n",
    "$$\n",
    "インダクタンス$L$は、\n",
    "$$\n",
    "L(n, w, s) = 1.62\\times10^{-3}\\times{d_{out}}^{-1.21}w^{-0.147}d_{avg}^{2.40}n^{1.78}s^{-0.030}\n",
    "$$"
   ]
  },
  {
   "cell_type": "markdown",
   "id": "20110bf0",
   "metadata": {},
   "source": [
    "(注: まだlengthは正確な定義まで練ってない, ひとまずこれくらいの値)\n",
    "$$\n",
    "length= 4(D_{out} -2n(s+w)-w)\n",
    "$$"
   ]
  },
  {
   "cell_type": "markdown",
   "id": "c1e2f096",
   "metadata": {},
   "source": [
    "変数定義"
   ]
  },
  {
   "cell_type": "code",
   "execution_count": 6,
   "id": "e6681500",
   "metadata": {},
   "outputs": [],
   "source": [
    "w, s, n, Din, Dav, h = sy.symbols(\"w s n Din Dav h\")"
   ]
  },
  {
   "cell_type": "code",
   "execution_count": 7,
   "id": "26368e39",
   "metadata": {
    "scrolled": true
   },
   "outputs": [],
   "source": [
    "length = (Dout - 2*n*(s+w)-w)*4 # コイルの総長さ(mm)\n",
    "R_L= (sigma*length*10**(-3))/((w*10**(-3))*(t*10**(-3)))"
   ]
  },
  {
   "cell_type": "markdown",
   "id": "dc62e2e6",
   "metadata": {},
   "source": [
    "Lを定義\n",
    "\n",
    "(式内で$D_{out}$, $D_{av}$, w, sを$10^3$倍しているのは, コイルの理論式ではumなのに対し, 指定はmmだから)"
   ]
  },
  {
   "cell_type": "code",
   "execution_count": 8,
   "id": "8e6b2329",
   "metadata": {
    "scrolled": true
   },
   "outputs": [],
   "source": [
    "Din=Dout-w*(2*n)-s*(2*n-1)\n",
    "Dav=(Dout+Din)/2\n",
    "L = B*((Dout*10**3)**a_dout)*((w*10**3)**a_w)*((Dav*10**3)**a_davg)*(n**a_n)*((s*10**3)**a_s)"
   ]
  },
  {
   "cell_type": "markdown",
   "id": "19391c5d",
   "metadata": {},
   "source": [
    "w, sに応じて、巻き数の上限は決定する\n",
    "$$\n",
    "n_{max} = \\frac{D_{out}+s}{2(s+w)}\n",
    "$$"
   ]
  },
  {
   "cell_type": "code",
   "execution_count": 9,
   "id": "95d722fd",
   "metadata": {},
   "outputs": [],
   "source": [
    "nmax = (Dout+s)/(2*(s+w))"
   ]
  },
  {
   "cell_type": "code",
   "execution_count": null,
   "id": "6fef7503",
   "metadata": {},
   "outputs": [],
   "source": []
  },
  {
   "cell_type": "markdown",
   "id": "9973bcbf",
   "metadata": {},
   "source": [
    "収集するデータのDataFrame用のカラムを準備"
   ]
  },
  {
   "cell_type": "code",
   "execution_count": 35,
   "id": "beca4612",
   "metadata": {},
   "outputs": [],
   "source": [
    "L_str = '$L(\\mu H)$'\n",
    "R_str = '$R_L(\\mu \\Omega)$'\n",
    "C_str = '$C(\\mu F)$'\n",
    "\n",
    "columns = ['w','s', 'n', L_str, R_str]"
   ]
  },
  {
   "cell_type": "code",
   "execution_count": 36,
   "id": "d817254a",
   "metadata": {},
   "outputs": [],
   "source": [
    "sim_df = pd.DataFrame(columns= columns)"
   ]
  },
  {
   "cell_type": "code",
   "execution_count": 37,
   "id": "e88a60eb",
   "metadata": {},
   "outputs": [],
   "source": [
    "for W in w_values:\n",
    "    for S in s_values:\n",
    "        n_m = nmax.subs([(w, W),(s, S)])//1\n",
    "        for N in range(1,n_m):\n",
    "            sim_df=sim_df.append({'w': W,'s': S, 'n': N, L_str: float(L.subs([(w, W),(s, S),(n, N)])*10**(-3)),R_str: float((10**6)*R_L.subs([(w, W),(s, S),(n,N)]))}, ignore_index=True)\n",
    "            "
   ]
  },
  {
   "cell_type": "markdown",
   "id": "512fb7b3",
   "metadata": {},
   "source": [
    "$$\n",
    "\\omega_{0}=\\frac{1}{\\sqrt{LC}}\n",
    "$$\n",
    "より\n",
    "$$\n",
    "C=\\frac{1}{L\\omega_{0}^2}=\\frac{1}{4\\pi^2f_{0}^2L}\n",
    "$$"
   ]
  },
  {
   "cell_type": "code",
   "execution_count": 38,
   "id": "7176aae8",
   "metadata": {},
   "outputs": [
    {
     "data": {
      "text/html": [
       "<div>\n",
       "<style scoped>\n",
       "    .dataframe tbody tr th:only-of-type {\n",
       "        vertical-align: middle;\n",
       "    }\n",
       "\n",
       "    .dataframe tbody tr th {\n",
       "        vertical-align: top;\n",
       "    }\n",
       "\n",
       "    .dataframe thead th {\n",
       "        text-align: right;\n",
       "    }\n",
       "</style>\n",
       "<table border=\"1\" class=\"dataframe\">\n",
       "  <thead>\n",
       "    <tr style=\"text-align: right;\">\n",
       "      <th></th>\n",
       "      <th>w</th>\n",
       "      <th>s</th>\n",
       "      <th>n</th>\n",
       "      <th>$L(\\mu H)$</th>\n",
       "      <th>$R_L(\\mu \\Omega)$</th>\n",
       "      <th>$C(\\mu F)$</th>\n",
       "    </tr>\n",
       "  </thead>\n",
       "  <tbody>\n",
       "    <tr>\n",
       "      <th>6568</th>\n",
       "      <td>4.9</td>\n",
       "      <td>3.4</td>\n",
       "      <td>1.0</td>\n",
       "      <td>0.042649</td>\n",
       "      <td>3.449563</td>\n",
       "      <td>14.847971</td>\n",
       "    </tr>\n",
       "    <tr>\n",
       "      <th>6533</th>\n",
       "      <td>4.8</td>\n",
       "      <td>3.6</td>\n",
       "      <td>1.0</td>\n",
       "      <td>0.042706</td>\n",
       "      <td>3.480000</td>\n",
       "      <td>14.828440</td>\n",
       "    </tr>\n",
       "    <tr>\n",
       "      <th>6567</th>\n",
       "      <td>4.9</td>\n",
       "      <td>3.3</td>\n",
       "      <td>1.0</td>\n",
       "      <td>0.042907</td>\n",
       "      <td>3.530729</td>\n",
       "      <td>14.758879</td>\n",
       "    </tr>\n",
       "    <tr>\n",
       "      <th>6532</th>\n",
       "      <td>4.8</td>\n",
       "      <td>3.5</td>\n",
       "      <td>1.0</td>\n",
       "      <td>0.042961</td>\n",
       "      <td>3.562857</td>\n",
       "      <td>14.740209</td>\n",
       "    </tr>\n",
       "    <tr>\n",
       "      <th>6495</th>\n",
       "      <td>4.7</td>\n",
       "      <td>3.7</td>\n",
       "      <td>1.0</td>\n",
       "      <td>0.043023</td>\n",
       "      <td>3.596353</td>\n",
       "      <td>14.719179</td>\n",
       "    </tr>\n",
       "    <tr>\n",
       "      <th>...</th>\n",
       "      <td>...</td>\n",
       "      <td>...</td>\n",
       "      <td>...</td>\n",
       "      <td>...</td>\n",
       "      <td>...</td>\n",
       "      <td>...</td>\n",
       "    </tr>\n",
       "    <tr>\n",
       "      <th>65</th>\n",
       "      <td>0.1</td>\n",
       "      <td>0.1</td>\n",
       "      <td>66.0</td>\n",
       "      <td>66.195166</td>\n",
       "      <td>69.600000</td>\n",
       "      <td>0.009567</td>\n",
       "    </tr>\n",
       "    <tr>\n",
       "      <th>61</th>\n",
       "      <td>0.1</td>\n",
       "      <td>0.1</td>\n",
       "      <td>62.0</td>\n",
       "      <td>66.197686</td>\n",
       "      <td>101.417143</td>\n",
       "      <td>0.009566</td>\n",
       "    </tr>\n",
       "    <tr>\n",
       "      <th>64</th>\n",
       "      <td>0.1</td>\n",
       "      <td>0.1</td>\n",
       "      <td>65.0</td>\n",
       "      <td>66.270858</td>\n",
       "      <td>77.554286</td>\n",
       "      <td>0.009556</td>\n",
       "    </tr>\n",
       "    <tr>\n",
       "      <th>62</th>\n",
       "      <td>0.1</td>\n",
       "      <td>0.1</td>\n",
       "      <td>63.0</td>\n",
       "      <td>66.272524</td>\n",
       "      <td>93.462857</td>\n",
       "      <td>0.009555</td>\n",
       "    </tr>\n",
       "    <tr>\n",
       "      <th>63</th>\n",
       "      <td>0.1</td>\n",
       "      <td>0.1</td>\n",
       "      <td>64.0</td>\n",
       "      <td>66.296788</td>\n",
       "      <td>85.508571</td>\n",
       "      <td>0.009552</td>\n",
       "    </tr>\n",
       "  </tbody>\n",
       "</table>\n",
       "<p>6569 rows × 6 columns</p>\n",
       "</div>"
      ],
      "text/plain": [
       "        w    s     n  $L(\\mu H)$  $R_L(\\mu \\Omega)$  $C(\\mu F)$\n",
       "6568  4.9  3.4   1.0    0.042649           3.449563   14.847971\n",
       "6533  4.8  3.6   1.0    0.042706           3.480000   14.828440\n",
       "6567  4.9  3.3   1.0    0.042907           3.530729   14.758879\n",
       "6532  4.8  3.5   1.0    0.042961           3.562857   14.740209\n",
       "6495  4.7  3.7   1.0    0.043023           3.596353   14.719179\n",
       "...   ...  ...   ...         ...                ...         ...\n",
       "65    0.1  0.1  66.0   66.195166          69.600000    0.009567\n",
       "61    0.1  0.1  62.0   66.197686         101.417143    0.009566\n",
       "64    0.1  0.1  65.0   66.270858          77.554286    0.009556\n",
       "62    0.1  0.1  63.0   66.272524          93.462857    0.009555\n",
       "63    0.1  0.1  64.0   66.296788          85.508571    0.009552\n",
       "\n",
       "[6569 rows x 6 columns]"
      ]
     },
     "execution_count": 38,
     "metadata": {},
     "output_type": "execute_result"
    }
   ],
   "source": [
    "sim_df[C_str]=(10**(6))/(4*((np.pi)**2)*(f0**2)*(sim_df[L_str]*(10**(-6))))\n",
    "sim_df.sort_values(L_str)"
   ]
  },
  {
   "cell_type": "code",
   "execution_count": 39,
   "id": "7d4d30d4",
   "metadata": {},
   "outputs": [],
   "source": [
    "sim_df.to_csv('coil_list.csv')"
   ]
  },
  {
   "cell_type": "code",
   "execution_count": null,
   "id": "50ccc041",
   "metadata": {},
   "outputs": [],
   "source": []
  },
  {
   "cell_type": "code",
   "execution_count": null,
   "id": "44dff9d8",
   "metadata": {},
   "outputs": [],
   "source": []
  },
  {
   "cell_type": "code",
   "execution_count": null,
   "id": "e677b8a4",
   "metadata": {},
   "outputs": [],
   "source": []
  },
  {
   "cell_type": "code",
   "execution_count": null,
   "id": "0f80353e",
   "metadata": {},
   "outputs": [],
   "source": []
  }
 ],
 "metadata": {
  "kernelspec": {
   "display_name": "Python 3 (ipykernel)",
   "language": "python",
   "name": "python3"
  },
  "language_info": {
   "codemirror_mode": {
    "name": "ipython",
    "version": 3
   },
   "file_extension": ".py",
   "mimetype": "text/x-python",
   "name": "python",
   "nbconvert_exporter": "python",
   "pygments_lexer": "ipython3",
   "version": "3.9.6"
  }
 },
 "nbformat": 4,
 "nbformat_minor": 5
}
